{
 "metadata": {
  "language_info": {
   "codemirror_mode": {
    "name": "ipython",
    "version": 3
   },
   "file_extension": ".py",
   "mimetype": "text/x-python",
   "name": "python",
   "nbconvert_exporter": "python",
   "pygments_lexer": "ipython3",
   "version": "3.8.5-final"
  },
  "orig_nbformat": 2,
  "kernelspec": {
   "name": "python385jvsc74a57bd027349182686c72f61673dd14bcb418a2273c4d132e5464fd2acd3867740b92e5",
   "display_name": "Python 3.8.5 64-bit ('data_projects': conda)"
  }
 },
 "nbformat": 4,
 "nbformat_minor": 2,
 "cells": [
  {
   "cell_type": "code",
   "execution_count": 1,
   "metadata": {},
   "outputs": [],
   "source": [
    "import matplotlib.pyplot as plt\n",
    "import numpy as np\n",
    "import pandas as pd\n",
    "from sklearn.datasets import load_digits\n",
    "from sklearn.linear_model import LogisticRegression\n",
    "from sklearn.metrics import classification_report, confusion_matrix\n",
    "from sklearn.model_selection import train_test_split\n",
    "from sklearn.preprocessing import StandardScaler\n",
    "%matplotlib inline"
   ]
  },
  {
   "cell_type": "code",
   "execution_count": 2,
   "metadata": {},
   "outputs": [],
   "source": [
    "data_df = pd.read_csv('18-endpoints-4-cols.csv', index_col=[0,1])\n",
    "games_df = pd.read_csv('games_df_2015-2020.csv').drop('Unnamed: 0', axis='columns')"
   ]
  },
  {
   "cell_type": "code",
   "execution_count": 3,
   "metadata": {},
   "outputs": [
    {
     "output_type": "execute_result",
     "data": {
      "text/plain": [
       "         Date          Home       Away  DidHomeWin\n",
       "0  2014-11-01     Charlotte    Memphis       False\n",
       "1  2014-11-01   New Orleans     Dallas       False\n",
       "2  2014-11-01       Orlando    Toronto       False\n",
       "3  2014-11-01  Philadelphia      Miami       False\n",
       "4  2014-11-01    Washington  Milwaukee        True"
      ],
      "text/html": "<div>\n<style scoped>\n    .dataframe tbody tr th:only-of-type {\n        vertical-align: middle;\n    }\n\n    .dataframe tbody tr th {\n        vertical-align: top;\n    }\n\n    .dataframe thead th {\n        text-align: right;\n    }\n</style>\n<table border=\"1\" class=\"dataframe\">\n  <thead>\n    <tr style=\"text-align: right;\">\n      <th></th>\n      <th>Date</th>\n      <th>Home</th>\n      <th>Away</th>\n      <th>DidHomeWin</th>\n    </tr>\n  </thead>\n  <tbody>\n    <tr>\n      <th>0</th>\n      <td>2014-11-01</td>\n      <td>Charlotte</td>\n      <td>Memphis</td>\n      <td>False</td>\n    </tr>\n    <tr>\n      <th>1</th>\n      <td>2014-11-01</td>\n      <td>New Orleans</td>\n      <td>Dallas</td>\n      <td>False</td>\n    </tr>\n    <tr>\n      <th>2</th>\n      <td>2014-11-01</td>\n      <td>Orlando</td>\n      <td>Toronto</td>\n      <td>False</td>\n    </tr>\n    <tr>\n      <th>3</th>\n      <td>2014-11-01</td>\n      <td>Philadelphia</td>\n      <td>Miami</td>\n      <td>False</td>\n    </tr>\n    <tr>\n      <th>4</th>\n      <td>2014-11-01</td>\n      <td>Washington</td>\n      <td>Milwaukee</td>\n      <td>True</td>\n    </tr>\n  </tbody>\n</table>\n</div>"
     },
     "metadata": {},
     "execution_count": 3
    }
   ],
   "source": [
    "games_df.head()"
   ]
  },
  {
   "cell_type": "code",
   "execution_count": 23,
   "metadata": {},
   "outputs": [],
   "source": [
    "maxs = data_df.max()\n",
    "mins = data_df.min()\n",
    "for col in data_df:\n",
    "    # print(col)\n",
    "    # print(means[col])\n",
    "    data_df[col] = data_df[col].apply(lambda x: (x - mins[col])/(maxs[col] - mins[col]))"
   ]
  },
  {
   "cell_type": "code",
   "execution_count": 24,
   "metadata": {
    "tags": []
   },
   "outputs": [],
   "source": [
    "training_data = []\n",
    "for i in range(len(games_df)):\n",
    "    try:\n",
    "        game = games_df.loc[i]\n",
    "\n",
    "        homeTeam, awayTeam = str(game.Home), str(game.Away)\n",
    "        date_str = game.Date\n",
    "        home_index = (date_str, homeTeam) # Index to get the stats for a team on a certain date from data_df\n",
    "        away_index = (date_str, awayTeam)\n",
    "        home_stats = data_df.loc[home_index].to_numpy()\n",
    "        home_stats = np.append(home_stats, [1]) # append 1 to array representing that this team was the home team\n",
    "        away_stats = data_df.loc[away_index].to_numpy()\n",
    "        away_stats = np.append(away_stats, [0])\n",
    "        # array_to_append = np.array([ np.array([home_stats.to_numpy(), away_stats.to_numpy()]), game.DidHomeWin])\n",
    "        # stats = np.array([home_stats.to_numpy(), away_stats.to_numpy()]) # make a 2d array for model eventually\n",
    "        training_data.append([home_stats, away_stats, int(game.DidHomeWin)]) # [1, 0 ] if AWAY WON,and [0,1] if HOME WON\n",
    "    except KeyError as e:\n",
    "        pass\n",
    "        # print(i)\n",
    "        # print(date_str) \n",
    "        # print(home_index)"
   ]
  },
  {
   "cell_type": "code",
   "execution_count": 25,
   "metadata": {},
   "outputs": [
    {
     "output_type": "stream",
     "name": "stdout",
     "text": [
      "5270\n"
     ]
    },
    {
     "output_type": "execute_result",
     "data": {
      "text/plain": [
       "73"
      ]
     },
     "metadata": {},
     "execution_count": 25
    }
   ],
   "source": [
    "print(len(training_data))\n",
    "len(training_data[0][0])\n",
    "# print(i)"
   ]
  },
  {
   "cell_type": "code",
   "execution_count": 26,
   "metadata": {},
   "outputs": [
    {
     "output_type": "stream",
     "name": "stdout",
     "text": [
      "x_vals[0]: [0.30077121 0.34065934 0.35185185 0.5        0.20887728 0.31446541\n 0.36734694 0.24553571 0.44204852 0.4494382  0.54660348 0.42161017\n 0.33933934 0.378327   0.30068337 0.77189409 0.42857143 0.38461538\n 0.44573643 0.61904762 0.51612903 0.45041322 0.54782609 0.63203463\n 0.22173275 0.13179643 0.17077244 0.28212291 0.78512397 0.71212121\n 0.72151899 0.71612903 0.49013158 0.46138996 0.47250509 0.69863014\n 0.35672515 0.35714286 0.31225296 0.70588235 0.35714286 0.41153846\n 0.41071429 0.89686099 0.42019544 0.4093178  0.53781513 0.41147132\n 0.41085271 0.47118156 0.47692308 0.29054054 0.30414747 0.37325905\n 0.2260274  0.55172414 0.4097561  0.37951807 0.56962025 0.\n 0.5902439  0.62048193 0.43037975 1.         0.69585253 0.62674095\n 0.7739726  0.44827586 0.333      0.333      0.5        0.\n 1.         0.35989717 0.37676609 0.11111111 0.6        0.31331593\n 0.37735849 0.30612245 0.45758929 0.41509434 0.43071161 0.3206951\n 0.63347458 0.1981982  0.28897338 0.01822323 0.48065173 0.46857143\n 0.41153846 0.62015504 0.45238095 0.41935484 0.38842975 0.65217391\n 0.38961039 0.10425844 0.0969987  0.19206681 0.10102421 0.90082645\n 0.78282828 0.79113924 0.82580645 0.24671053 0.31853282 0.03462322\n 0.63405088 0.25146199 0.29285714 0.12252964 0.45490196 0.23571429\n 0.34615385 0.         0.73991031 0.23778502 0.31613977 0.28571429\n 0.43391521 0.45478036 0.49567723 0.63076923 0.34966216 0.38709677\n 0.42339833 0.14383562 0.58355438 0.57560976 0.48192771 0.47594937\n 0.58842444 0.42439024 0.51807229 0.52405063 0.41157556 0.61290323\n 0.57660167 0.85616438 0.41644562 0.333      0.333      1.\n 0.         0.        ] \ny_vals[0]: 0\nx_vals.shape: (5270, 146) \ny_vals.shape: (5270,)\n"
     ]
    }
   ],
   "source": [
    "num_data_points = len(training_data[0][0])*2\n",
    "x_vals = [x[0:2] for x in training_data]\n",
    "x_vals = np.array(x_vals)\n",
    "x_vals = np.resize(x_vals, (5270, num_data_points))\n",
    "y_vals = [y[2] for y in training_data]\n",
    "y_vals = np.array(y_vals, dtype='int')\n",
    "print(f'x_vals[0]: {x_vals[0]} \\ny_vals[0]: {y_vals[0]}')\n",
    "print(f'x_vals.shape: {x_vals.shape} \\ny_vals.shape: {y_vals.shape}')"
   ]
  },
  {
   "cell_type": "code",
   "execution_count": 27,
   "metadata": {},
   "outputs": [
    {
     "output_type": "execute_result",
     "data": {
      "text/plain": [
       "array([0.30077121, 0.34065934, 0.35185185, 0.5       , 0.20887728,\n",
       "       0.31446541, 0.36734694, 0.24553571, 0.44204852, 0.4494382 ,\n",
       "       0.54660348, 0.42161017, 0.33933934, 0.378327  , 0.30068337,\n",
       "       0.77189409, 0.42857143, 0.38461538, 0.44573643, 0.61904762,\n",
       "       0.51612903, 0.45041322, 0.54782609, 0.63203463, 0.22173275,\n",
       "       0.13179643, 0.17077244, 0.28212291, 0.78512397, 0.71212121,\n",
       "       0.72151899, 0.71612903, 0.49013158, 0.46138996, 0.47250509,\n",
       "       0.69863014, 0.35672515, 0.35714286, 0.31225296, 0.70588235,\n",
       "       0.35714286, 0.41153846, 0.41071429, 0.89686099, 0.42019544,\n",
       "       0.4093178 , 0.53781513, 0.41147132, 0.41085271, 0.47118156,\n",
       "       0.47692308, 0.29054054, 0.30414747, 0.37325905, 0.2260274 ,\n",
       "       0.55172414, 0.4097561 , 0.37951807, 0.56962025, 0.        ,\n",
       "       0.5902439 , 0.62048193, 0.43037975, 1.        , 0.69585253,\n",
       "       0.62674095, 0.7739726 , 0.44827586, 0.333     , 0.333     ,\n",
       "       0.5       , 0.        , 1.        , 0.35989717, 0.37676609,\n",
       "       0.11111111, 0.6       , 0.31331593, 0.37735849, 0.30612245,\n",
       "       0.45758929, 0.41509434, 0.43071161, 0.3206951 , 0.63347458,\n",
       "       0.1981982 , 0.28897338, 0.01822323, 0.48065173, 0.46857143,\n",
       "       0.41153846, 0.62015504, 0.45238095, 0.41935484, 0.38842975,\n",
       "       0.65217391, 0.38961039, 0.10425844, 0.0969987 , 0.19206681,\n",
       "       0.10102421, 0.90082645, 0.78282828, 0.79113924, 0.82580645,\n",
       "       0.24671053, 0.31853282, 0.03462322, 0.63405088, 0.25146199,\n",
       "       0.29285714, 0.12252964, 0.45490196, 0.23571429, 0.34615385,\n",
       "       0.        , 0.73991031, 0.23778502, 0.31613977, 0.28571429,\n",
       "       0.43391521, 0.45478036, 0.49567723, 0.63076923, 0.34966216,\n",
       "       0.38709677, 0.42339833, 0.14383562, 0.58355438, 0.57560976,\n",
       "       0.48192771, 0.47594937, 0.58842444, 0.42439024, 0.51807229,\n",
       "       0.52405063, 0.41157556, 0.61290323, 0.57660167, 0.85616438,\n",
       "       0.41644562, 0.333     , 0.333     , 1.        , 0.        ,\n",
       "       0.        ])"
      ]
     },
     "metadata": {},
     "execution_count": 27
    }
   ],
   "source": [
    "x_vals[0]"
   ]
  },
  {
   "cell_type": "code",
   "execution_count": 35,
   "metadata": {},
   "outputs": [],
   "source": [
    "x_train, x_test, y_train, y_test = train_test_split(x_vals, y_vals, test_size=0.2, random_state=0)"
   ]
  },
  {
   "cell_type": "code",
   "execution_count": 29,
   "metadata": {},
   "outputs": [],
   "source": [
    "# scaler = StandardScaler()\n",
    "# x_train = scaler.fit_transform(x_train)"
   ]
  },
  {
   "cell_type": "code",
   "execution_count": 36,
   "metadata": {},
   "outputs": [
    {
     "output_type": "execute_result",
     "data": {
      "text/plain": [
       "LogisticRegression(random_state=0, solver='liblinear')"
      ]
     },
     "metadata": {},
     "execution_count": 36
    }
   ],
   "source": [
    "model = LogisticRegression(solver='liblinear', random_state=0)\n",
    "model.fit(x_train, y_train)"
   ]
  },
  {
   "cell_type": "code",
   "execution_count": 31,
   "metadata": {},
   "outputs": [],
   "source": [
    "# x_test = scaler.transform(x_test)"
   ]
  },
  {
   "cell_type": "code",
   "execution_count": 37,
   "metadata": {},
   "outputs": [],
   "source": [
    "y_pred = model.predict(x_test)"
   ]
  },
  {
   "cell_type": "code",
   "execution_count": 38,
   "metadata": {},
   "outputs": [
    {
     "output_type": "execute_result",
     "data": {
      "text/plain": [
       "0.6776565464895635"
      ]
     },
     "metadata": {},
     "execution_count": 38
    }
   ],
   "source": [
    "model.score(x_train, y_train)"
   ]
  },
  {
   "cell_type": "code",
   "execution_count": 39,
   "metadata": {},
   "outputs": [
    {
     "output_type": "execute_result",
     "data": {
      "text/plain": [
       "0.6802656546489564"
      ]
     },
     "metadata": {},
     "execution_count": 39
    }
   ],
   "source": [
    "model.score(x_test, y_test)"
   ]
  },
  {
   "cell_type": "code",
   "execution_count": 40,
   "metadata": {},
   "outputs": [
    {
     "output_type": "execute_result",
     "data": {
      "text/plain": [
       "array([[214, 216],\n",
       "       [121, 503]], dtype=int64)"
      ]
     },
     "metadata": {},
     "execution_count": 40
    }
   ],
   "source": [
    "confusion_matrix(y_test, y_pred)"
   ]
  },
  {
   "cell_type": "code",
   "execution_count": 21,
   "metadata": {},
   "outputs": [
    {
     "output_type": "stream",
     "name": "stdout",
     "text": [
      "              precision    recall  f1-score   support\n\n           0       0.62      0.49      0.55       430\n           1       0.69      0.80      0.74       624\n\n    accuracy                           0.67      1054\n   macro avg       0.66      0.64      0.65      1054\nweighted avg       0.67      0.67      0.66      1054\n\n"
     ]
    }
   ],
   "source": [
    "print(classification_report(y_test, y_pred))"
   ]
  },
  {
   "cell_type": "code",
   "execution_count": null,
   "metadata": {},
   "outputs": [],
   "source": []
  }
 ]
}