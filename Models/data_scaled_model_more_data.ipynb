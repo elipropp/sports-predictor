{
 "metadata": {
  "language_info": {
   "codemirror_mode": {
    "name": "ipython",
    "version": 3
   },
   "file_extension": ".py",
   "mimetype": "text/x-python",
   "name": "python",
   "nbconvert_exporter": "python",
   "pygments_lexer": "ipython3",
   "version": "3.9.2-final"
  },
  "orig_nbformat": 2,
  "kernelspec": {
   "name": "python392jvsc74a57bd064cf083f2506f8398d63b8e6837817be39a64544543a91ee0c0c770861dfe128",
   "display_name": "Python 3.9.2 64-bit ('04-feedforward-nn': conda)"
  }
 },
 "nbformat": 4,
 "nbformat_minor": 2,
 "cells": [
  {
   "cell_type": "code",
   "execution_count": 58,
   "metadata": {},
   "outputs": [],
   "source": [
    "import pandas as pd\n",
    "import time\n",
    "import numpy as np\n",
    "from torch.utils.data import DataLoader\n",
    "from torch.utils.data import TensorDataset\n",
    "import torch\n",
    "from torch.utils.data import random_split\n",
    "import matplotlib.pyplot as plt"
   ]
  },
  {
   "cell_type": "code",
   "execution_count": 59,
   "metadata": {},
   "outputs": [],
   "source": [
    "%matplotlib inline"
   ]
  },
  {
   "source": [
    "<h3>Read the data sets from the pickle files into a dataframe</h3>"
   ],
   "cell_type": "markdown",
   "metadata": {}
  },
  {
   "cell_type": "code",
   "execution_count": 60,
   "metadata": {},
   "outputs": [],
   "source": [
    "data_df = pd.read_pickle('data_df_2015-2020-20-endpoints.pickle')\n",
    "games_df = pd.read_pickle('games_df_2015-2020.pickle')"
   ]
  },
  {
   "cell_type": "code",
   "execution_count": 61,
   "metadata": {},
   "outputs": [
    {
     "output_type": "execute_result",
     "data": {
      "text/plain": [
       "opponent-points-per-game                102.300\n",
       "points-per-game                         103.400\n",
       "true-shooting-percentage                111.700\n",
       "opponent-true-shooting-percentage       111.100\n",
       "assists-per-game                         21.500\n",
       "assists-per-possession                    0.218\n",
       "assist--per--turnover-ratio               1.494\n",
       "turnovers-per-possession                 14.600\n",
       "defensive-efficiency                      1.038\n",
       "opponent-effective-field-goal-pct        52.400\n",
       "average-margin-thru-3-quarters           -0.500\n",
       "opponent-4th-quarter-points-per-game     25.200\n",
       "offensive-efficiency                      1.049\n",
       "average-scoring-margin                    1.100\n",
       "opponent-defensive-rebounding-pct        79.900\n",
       "opponent-offensive-rebounding-pct        21.200\n",
       "defensive-rebounding-pct                 78.800\n",
       "offensive-rebounding-pct                 20.100\n",
       "opponent-average-biggest-lead            12.700\n",
       "Name: (2018-02-06 00:00:00, Utah), dtype: float64"
      ]
     },
     "metadata": {},
     "execution_count": 61
    }
   ],
   "source": [
    "data_df.loc['2018-02-06', 'Utah']"
   ]
  },
  {
   "cell_type": "code",
   "execution_count": 62,
   "metadata": {},
   "outputs": [
    {
     "output_type": "stream",
     "name": "stdout",
     "text": [
      "opponent-points-per-game                5.592883\npoints-per-game                         5.951214\ntrue-shooting-percentage                4.477047\nopponent-true-shooting-percentage       3.929086\nassists-per-game                        2.400331\nassists-per-possession                  0.021395\nassist--per--turnover-ratio             0.211399\nturnovers-per-possession                1.328363\ndefensive-efficiency                    0.036458\nopponent-effective-field-goal-pct       2.164196\naverage-margin-thru-3-quarters          4.722737\nopponent-4th-quarter-points-per-game    1.533830\noffensive-efficiency                    0.041615\naverage-scoring-margin                  5.301693\nopponent-defensive-rebounding-pct       2.789662\nopponent-offensive-rebounding-pct       2.282240\ndefensive-rebounding-pct                2.282214\noffensive-rebounding-pct                2.789688\nopponent-average-biggest-lead           2.986547\ndtype: float64\nopponent-points-per-game                104.462681\npoints-per-game                         104.470895\ntrue-shooting-percentage                108.336248\nopponent-true-shooting-percentage       108.353955\nassists-per-game                         22.530873\nassists-per-possession                    0.223671\nassist--per--turnover-ratio               1.558206\nturnovers-per-possession                 14.483144\ndefensive-efficiency                      1.037203\nopponent-effective-field-goal-pct        50.823382\naverage-margin-thru-3-quarters            0.008470\nopponent-4th-quarter-points-per-game     25.515586\noffensive-efficiency                      1.037279\naverage-scoring-margin                    0.007729\nopponent-defensive-rebounding-pct        76.452094\nopponent-offensive-rebounding-pct        23.550295\ndefensive-rebounding-pct                 76.449727\noffensive-rebounding-pct                 23.547937\nopponent-average-biggest-lead            12.046058\ndtype: float64\nopponent-points-per-game                123.900\npoints-per-game                         125.500\ntrue-shooting-percentage                127.100\nopponent-true-shooting-percentage       125.700\nassists-per-game                         32.000\nassists-per-possession                    0.307\nassist--per--turnover-ratio               2.600\nturnovers-per-possession                 21.800\ndefensive-efficiency                      1.217\nopponent-effective-field-goal-pct        60.500\naverage-margin-thru-3-quarters           29.000\nopponent-4th-quarter-points-per-game     34.000\noffensive-efficiency                      1.215\naverage-scoring-margin                   25.000\nopponent-defensive-rebounding-pct        90.000\nopponent-offensive-rebounding-pct        36.600\ndefensive-rebounding-pct                 92.100\noffensive-rebounding-pct                 39.400\nopponent-average-biggest-lead            29.000\ndtype: float64\nopponent-points-per-game                77.000\npoints-per-game                         83.000\ntrue-shooting-percentage                86.100\nopponent-true-shooting-percentage       81.400\nassists-per-game                        13.500\nassists-per-possession                   0.136\nassist--per--turnover-ratio              0.628\nturnovers-per-possession                 9.000\ndefensive-efficiency                     0.727\nopponent-effective-field-goal-pct       32.700\naverage-margin-thru-3-quarters         -29.000\nopponent-4th-quarter-points-per-game    14.000\noffensive-efficiency                     0.818\naverage-scoring-margin                 -22.500\nopponent-defensive-rebounding-pct       60.600\nopponent-offensive-rebounding-pct        7.900\ndefensive-rebounding-pct                63.400\noffensive-rebounding-pct                10.000\nopponent-average-biggest-lead            1.000\ndtype: float64\n"
     ]
    }
   ],
   "source": [
    "stds = data_df.std()\n",
    "means = data_df.mean()\n",
    "maxs = data_df.max()\n",
    "mins = data_df.min()\n",
    "print(stds)\n",
    "print(means)\n",
    "print(maxs)\n",
    "print(mins)"
   ]
  },
  {
   "source": [
    "<h2>standardizing the data<h2>"
   ],
   "cell_type": "markdown",
   "metadata": {}
  },
  {
   "cell_type": "code",
   "execution_count": 63,
   "metadata": {},
   "outputs": [
    {
     "output_type": "stream",
     "name": "stdout",
     "text": [
      "opponent-points-per-game\n",
      "104.46268077601411\n",
      "points-per-game\n",
      "104.47089506172838\n",
      "true-shooting-percentage\n",
      "108.33624779541445\n",
      "opponent-true-shooting-percentage\n",
      "108.35395502645504\n",
      "assists-per-game\n",
      "22.530873015873016\n",
      "assists-per-possession\n",
      "0.22367050264550264\n",
      "assist--per--turnover-ratio\n",
      "1.558205687830688\n",
      "turnovers-per-possession\n",
      "14.483143738977075\n",
      "defensive-efficiency\n",
      "1.0372025132275131\n",
      "opponent-effective-field-goal-pct\n",
      "50.82338183421517\n",
      "average-margin-thru-3-quarters\n",
      "0.008470017636684299\n",
      "opponent-4th-quarter-points-per-game\n",
      "25.515586419753088\n",
      "offensive-efficiency\n",
      "1.0372785273368605\n",
      "average-scoring-margin\n",
      "0.007729276895943565\n",
      "opponent-defensive-rebounding-pct\n",
      "76.45209435626103\n",
      "opponent-offensive-rebounding-pct\n",
      "23.550295414462077\n",
      "defensive-rebounding-pct\n",
      "76.44972663139329\n",
      "offensive-rebounding-pct\n",
      "23.547936507936505\n",
      "opponent-average-biggest-lead\n",
      "12.046058201058203\n"
     ]
    }
   ],
   "source": [
    "for col in data_df:\n",
    "    print(col)\n",
    "    print(means[col])\n",
    "    data_df[col] = data_df[col].apply(lambda x: (x-means[col])/stds[col])"
   ]
  },
  {
   "cell_type": "code",
   "execution_count": 64,
   "metadata": {},
   "outputs": [
    {
     "output_type": "execute_result",
     "data": {
      "text/plain": [
       "                        opponent-points-per-game  points-per-game  \\\n",
       "2014-11-01 Atlanta                      0.811267        -0.415192   \n",
       "           Boston                       0.096072         2.777434   \n",
       "           Brooklyn                     2.956851         0.088907   \n",
       "           Charlotte                    0.274871         0.593006   \n",
       "           Chicago                     -1.334317         0.256940   \n",
       "...                                          ...              ...   \n",
       "2019-03-31 Sacramento                   1.848299         1.618007   \n",
       "           San Antonio                  1.043705         1.248334   \n",
       "           Toronto                      0.703987         1.651614   \n",
       "           Utah                         0.310630         1.130711   \n",
       "           Washington                   2.277416         1.668417   \n",
       "\n",
       "                        true-shooting-percentage  \\\n",
       "2014-11-01 Atlanta                      1.667115   \n",
       "           Boston                       3.118965   \n",
       "           Brooklyn                     1.198056   \n",
       "           Charlotte                   -3.179830   \n",
       "           Chicago                      1.622443   \n",
       "...                                          ...   \n",
       "2019-03-31 Sacramento                   0.326946   \n",
       "           San Antonio                  1.153384   \n",
       "           Toronto                      1.421417   \n",
       "           Utah                         0.997031   \n",
       "           Washington                   1.041703   \n",
       "\n",
       "                        opponent-true-shooting-percentage  assists-per-game  \\\n",
       "2014-11-01 Atlanta                              -1.337195          1.445270   \n",
       "           Boston                                1.360633          2.278488   \n",
       "           Brooklyn                              3.549438         -1.054385   \n",
       "           Charlotte                             1.946011          1.861879   \n",
       "           Chicago                              -4.365890          0.195443   \n",
       "...                                                   ...               ...   \n",
       "2019-03-31 Sacramento                            0.953414          1.278626   \n",
       "           San Antonio                           0.647999          0.862017   \n",
       "           Toronto                              -0.039183          1.153644   \n",
       "           Utah                                 -0.191891          1.361948   \n",
       "           Washington                            1.767853          1.611914   \n",
       "\n",
       "                        assists-per-possession  assist--per--turnover-ratio  \\\n",
       "2014-11-01 Atlanta                    1.884960                    -0.899747   \n",
       "           Boston                     2.165394                     2.818338   \n",
       "           Brooklyn                  -1.433508                    -2.867588   \n",
       "           Charlotte                  1.230614                     2.454098   \n",
       "           Chicago                    0.295834                    -1.155188   \n",
       "...                                        ...                          ...   \n",
       "2019-03-31 Sacramento                 0.763224                     1.560055   \n",
       "           San Antonio                0.809963                     2.288535   \n",
       "           Toronto                    0.856702                     1.120129   \n",
       "           Utah                       1.183875                     0.751159   \n",
       "           Washington                 1.183875                     1.408683   \n",
       "\n",
       "                        turnovers-per-possession  defensive-efficiency  \\\n",
       "2014-11-01 Atlanta                      3.626160              1.941875   \n",
       "           Boston                      -1.492923             -0.663841   \n",
       "           Brooklyn                     4.378966              3.587590   \n",
       "           Charlotte                   -1.869326             -1.541556   \n",
       "           Chicago                      2.271108             -1.843270   \n",
       "...                                          ...                   ...   \n",
       "2019-03-31 Sacramento                  -1.342362              1.009303   \n",
       "           San Antonio                 -2.019888              1.228732   \n",
       "           Toronto                     -0.740117              0.049303   \n",
       "           Utah                         0.012689             -0.362126   \n",
       "           Washington                  -0.815397              1.887018   \n",
       "\n",
       "                        opponent-effective-field-goal-pct  \\\n",
       "2014-11-01 Atlanta                              -2.413544   \n",
       "           Boston                                1.051947   \n",
       "           Brooklyn                              4.332611   \n",
       "           Charlotte                             1.051947   \n",
       "           Chicago                              -5.139731   \n",
       "...                                                   ...   \n",
       "2019-03-31 Sacramento                            0.867120   \n",
       "           San Antonio                           0.959534   \n",
       "           Toronto                               0.035403   \n",
       "           Utah                                 -0.057010   \n",
       "           Washington                            1.791251   \n",
       "\n",
       "                        average-margin-thru-3-quarters  \\\n",
       "2014-11-01 Atlanta                           -3.177918   \n",
       "           Boston                             6.138714   \n",
       "           Brooklyn                          -6.142301   \n",
       "           Charlotte                         -3.177918   \n",
       "           Chicago                            1.586269   \n",
       "...                                                ...   \n",
       "2019-03-31 Sacramento                        -0.171187   \n",
       "           San Antonio                        0.231122   \n",
       "           Toronto                            1.311005   \n",
       "           Utah                               0.951044   \n",
       "           Washington                        -0.891108   \n",
       "\n",
       "                        opponent-4th-quarter-points-per-game  \\\n",
       "2014-11-01 Atlanta                                 -1.640068   \n",
       "           Boston                                   4.879558   \n",
       "           Brooklyn                                -3.595956   \n",
       "           Charlotte                               -5.551844   \n",
       "           Chicago                                 -3.595956   \n",
       "...                                                      ...   \n",
       "2019-03-31 Sacramento                               1.554548   \n",
       "           San Antonio                              1.032978   \n",
       "           Toronto                                  0.967782   \n",
       "           Utah                                     1.163371   \n",
       "           Washington                               1.032978   \n",
       "\n",
       "                        offensive-efficiency  average-scoring-margin  \\\n",
       "2014-11-01 Atlanta                 -0.006693               -1.321791   \n",
       "           Boston                   3.141191                3.016446   \n",
       "           Brooklyn                -0.583404               -3.019362   \n",
       "           Charlotte               -0.919820                0.375780   \n",
       "           Chicago                  0.545989                1.696113   \n",
       "...                                      ...                     ...   \n",
       "2019-03-31 Sacramento               0.714197               -0.152353   \n",
       "           San Antonio              1.435086                0.281471   \n",
       "           Toronto                  1.387027                1.111394   \n",
       "           Utah                     0.858374                0.941637   \n",
       "           Washington               1.002552               -0.529591   \n",
       "\n",
       "                        opponent-defensive-rebounding-pct  \\\n",
       "2014-11-01 Atlanta                              -0.090367   \n",
       "           Boston                                0.160559   \n",
       "           Brooklyn                             -0.771454   \n",
       "           Charlotte                            -2.993945   \n",
       "           Chicago                              -1.345000   \n",
       "...                                                   ...   \n",
       "2019-03-31 Sacramento                            0.196406   \n",
       "           San Antonio                           0.985032   \n",
       "           Toronto                               0.483179   \n",
       "           Utah                                  0.232252   \n",
       "           Washington                            0.913339   \n",
       "\n",
       "                        opponent-offensive-rebounding-pct  \\\n",
       "2014-11-01 Atlanta                               4.271989   \n",
       "           Boston                                0.941927   \n",
       "           Brooklyn                             -0.197304   \n",
       "           Charlotte                            -6.857427   \n",
       "           Chicago                               4.271989   \n",
       "...                                                   ...   \n",
       "2019-03-31 Sacramento                            0.372312   \n",
       "           San Antonio                          -1.248902   \n",
       "           Toronto                              -0.153488   \n",
       "           Utah                                 -1.774702   \n",
       "           Washington                            1.117194   \n",
       "\n",
       "                        defensive-rebounding-pct  offensive-rebounding-pct  \\\n",
       "2014-11-01 Atlanta                     -4.272047                  0.090355   \n",
       "           Boston                      -0.941948                 -0.160569   \n",
       "           Brooklyn                     0.197297                  0.771435   \n",
       "           Charlotte                    6.857495                  2.993906   \n",
       "           Chicago                     -4.272047                  1.344976   \n",
       "...                                          ...                       ...   \n",
       "2019-03-31 Sacramento                  -0.372326                 -0.196415   \n",
       "           San Antonio                  1.248907                 -0.985034   \n",
       "           Toronto                      0.153480                 -0.483185   \n",
       "           Utah                         1.774712                 -0.232261   \n",
       "           Washington                  -1.117216                 -0.913341   \n",
       "\n",
       "                        opponent-average-biggest-lead  \n",
       "2014-11-01 Atlanta                           2.328422  \n",
       "           Boston                           -3.363770  \n",
       "           Brooklyn                          5.676771  \n",
       "           Charlotte                         4.002596  \n",
       "           Chicago                          -1.354761  \n",
       "...                                               ...  \n",
       "2019-03-31 Sacramento                        0.218963  \n",
       "           San Antonio                      -0.082389  \n",
       "           Toronto                          -1.053410  \n",
       "           Utah                             -0.551158  \n",
       "           Washington                        0.888632  \n",
       "\n",
       "[22680 rows x 19 columns]"
      ],
      "text/html": "<div>\n<style scoped>\n    .dataframe tbody tr th:only-of-type {\n        vertical-align: middle;\n    }\n\n    .dataframe tbody tr th {\n        vertical-align: top;\n    }\n\n    .dataframe thead th {\n        text-align: right;\n    }\n</style>\n<table border=\"1\" class=\"dataframe\">\n  <thead>\n    <tr style=\"text-align: right;\">\n      <th></th>\n      <th></th>\n      <th>opponent-points-per-game</th>\n      <th>points-per-game</th>\n      <th>true-shooting-percentage</th>\n      <th>opponent-true-shooting-percentage</th>\n      <th>assists-per-game</th>\n      <th>assists-per-possession</th>\n      <th>assist--per--turnover-ratio</th>\n      <th>turnovers-per-possession</th>\n      <th>defensive-efficiency</th>\n      <th>opponent-effective-field-goal-pct</th>\n      <th>average-margin-thru-3-quarters</th>\n      <th>opponent-4th-quarter-points-per-game</th>\n      <th>offensive-efficiency</th>\n      <th>average-scoring-margin</th>\n      <th>opponent-defensive-rebounding-pct</th>\n      <th>opponent-offensive-rebounding-pct</th>\n      <th>defensive-rebounding-pct</th>\n      <th>offensive-rebounding-pct</th>\n      <th>opponent-average-biggest-lead</th>\n    </tr>\n  </thead>\n  <tbody>\n    <tr>\n      <th rowspan=\"5\" valign=\"top\">2014-11-01</th>\n      <th>Atlanta</th>\n      <td>0.811267</td>\n      <td>-0.415192</td>\n      <td>1.667115</td>\n      <td>-1.337195</td>\n      <td>1.445270</td>\n      <td>1.884960</td>\n      <td>-0.899747</td>\n      <td>3.626160</td>\n      <td>1.941875</td>\n      <td>-2.413544</td>\n      <td>-3.177918</td>\n      <td>-1.640068</td>\n      <td>-0.006693</td>\n      <td>-1.321791</td>\n      <td>-0.090367</td>\n      <td>4.271989</td>\n      <td>-4.272047</td>\n      <td>0.090355</td>\n      <td>2.328422</td>\n    </tr>\n    <tr>\n      <th>Boston</th>\n      <td>0.096072</td>\n      <td>2.777434</td>\n      <td>3.118965</td>\n      <td>1.360633</td>\n      <td>2.278488</td>\n      <td>2.165394</td>\n      <td>2.818338</td>\n      <td>-1.492923</td>\n      <td>-0.663841</td>\n      <td>1.051947</td>\n      <td>6.138714</td>\n      <td>4.879558</td>\n      <td>3.141191</td>\n      <td>3.016446</td>\n      <td>0.160559</td>\n      <td>0.941927</td>\n      <td>-0.941948</td>\n      <td>-0.160569</td>\n      <td>-3.363770</td>\n    </tr>\n    <tr>\n      <th>Brooklyn</th>\n      <td>2.956851</td>\n      <td>0.088907</td>\n      <td>1.198056</td>\n      <td>3.549438</td>\n      <td>-1.054385</td>\n      <td>-1.433508</td>\n      <td>-2.867588</td>\n      <td>4.378966</td>\n      <td>3.587590</td>\n      <td>4.332611</td>\n      <td>-6.142301</td>\n      <td>-3.595956</td>\n      <td>-0.583404</td>\n      <td>-3.019362</td>\n      <td>-0.771454</td>\n      <td>-0.197304</td>\n      <td>0.197297</td>\n      <td>0.771435</td>\n      <td>5.676771</td>\n    </tr>\n    <tr>\n      <th>Charlotte</th>\n      <td>0.274871</td>\n      <td>0.593006</td>\n      <td>-3.179830</td>\n      <td>1.946011</td>\n      <td>1.861879</td>\n      <td>1.230614</td>\n      <td>2.454098</td>\n      <td>-1.869326</td>\n      <td>-1.541556</td>\n      <td>1.051947</td>\n      <td>-3.177918</td>\n      <td>-5.551844</td>\n      <td>-0.919820</td>\n      <td>0.375780</td>\n      <td>-2.993945</td>\n      <td>-6.857427</td>\n      <td>6.857495</td>\n      <td>2.993906</td>\n      <td>4.002596</td>\n    </tr>\n    <tr>\n      <th>Chicago</th>\n      <td>-1.334317</td>\n      <td>0.256940</td>\n      <td>1.622443</td>\n      <td>-4.365890</td>\n      <td>0.195443</td>\n      <td>0.295834</td>\n      <td>-1.155188</td>\n      <td>2.271108</td>\n      <td>-1.843270</td>\n      <td>-5.139731</td>\n      <td>1.586269</td>\n      <td>-3.595956</td>\n      <td>0.545989</td>\n      <td>1.696113</td>\n      <td>-1.345000</td>\n      <td>4.271989</td>\n      <td>-4.272047</td>\n      <td>1.344976</td>\n      <td>-1.354761</td>\n    </tr>\n    <tr>\n      <th>...</th>\n      <th>...</th>\n      <td>...</td>\n      <td>...</td>\n      <td>...</td>\n      <td>...</td>\n      <td>...</td>\n      <td>...</td>\n      <td>...</td>\n      <td>...</td>\n      <td>...</td>\n      <td>...</td>\n      <td>...</td>\n      <td>...</td>\n      <td>...</td>\n      <td>...</td>\n      <td>...</td>\n      <td>...</td>\n      <td>...</td>\n      <td>...</td>\n      <td>...</td>\n    </tr>\n    <tr>\n      <th rowspan=\"5\" valign=\"top\">2019-03-31</th>\n      <th>Sacramento</th>\n      <td>1.848299</td>\n      <td>1.618007</td>\n      <td>0.326946</td>\n      <td>0.953414</td>\n      <td>1.278626</td>\n      <td>0.763224</td>\n      <td>1.560055</td>\n      <td>-1.342362</td>\n      <td>1.009303</td>\n      <td>0.867120</td>\n      <td>-0.171187</td>\n      <td>1.554548</td>\n      <td>0.714197</td>\n      <td>-0.152353</td>\n      <td>0.196406</td>\n      <td>0.372312</td>\n      <td>-0.372326</td>\n      <td>-0.196415</td>\n      <td>0.218963</td>\n    </tr>\n    <tr>\n      <th>San Antonio</th>\n      <td>1.043705</td>\n      <td>1.248334</td>\n      <td>1.153384</td>\n      <td>0.647999</td>\n      <td>0.862017</td>\n      <td>0.809963</td>\n      <td>2.288535</td>\n      <td>-2.019888</td>\n      <td>1.228732</td>\n      <td>0.959534</td>\n      <td>0.231122</td>\n      <td>1.032978</td>\n      <td>1.435086</td>\n      <td>0.281471</td>\n      <td>0.985032</td>\n      <td>-1.248902</td>\n      <td>1.248907</td>\n      <td>-0.985034</td>\n      <td>-0.082389</td>\n    </tr>\n    <tr>\n      <th>Toronto</th>\n      <td>0.703987</td>\n      <td>1.651614</td>\n      <td>1.421417</td>\n      <td>-0.039183</td>\n      <td>1.153644</td>\n      <td>0.856702</td>\n      <td>1.120129</td>\n      <td>-0.740117</td>\n      <td>0.049303</td>\n      <td>0.035403</td>\n      <td>1.311005</td>\n      <td>0.967782</td>\n      <td>1.387027</td>\n      <td>1.111394</td>\n      <td>0.483179</td>\n      <td>-0.153488</td>\n      <td>0.153480</td>\n      <td>-0.483185</td>\n      <td>-1.053410</td>\n    </tr>\n    <tr>\n      <th>Utah</th>\n      <td>0.310630</td>\n      <td>1.130711</td>\n      <td>0.997031</td>\n      <td>-0.191891</td>\n      <td>1.361948</td>\n      <td>1.183875</td>\n      <td>0.751159</td>\n      <td>0.012689</td>\n      <td>-0.362126</td>\n      <td>-0.057010</td>\n      <td>0.951044</td>\n      <td>1.163371</td>\n      <td>0.858374</td>\n      <td>0.941637</td>\n      <td>0.232252</td>\n      <td>-1.774702</td>\n      <td>1.774712</td>\n      <td>-0.232261</td>\n      <td>-0.551158</td>\n    </tr>\n    <tr>\n      <th>Washington</th>\n      <td>2.277416</td>\n      <td>1.668417</td>\n      <td>1.041703</td>\n      <td>1.767853</td>\n      <td>1.611914</td>\n      <td>1.183875</td>\n      <td>1.408683</td>\n      <td>-0.815397</td>\n      <td>1.887018</td>\n      <td>1.791251</td>\n      <td>-0.891108</td>\n      <td>1.032978</td>\n      <td>1.002552</td>\n      <td>-0.529591</td>\n      <td>0.913339</td>\n      <td>1.117194</td>\n      <td>-1.117216</td>\n      <td>-0.913341</td>\n      <td>0.888632</td>\n    </tr>\n  </tbody>\n</table>\n<p>22680 rows × 19 columns</p>\n</div>"
     },
     "metadata": {},
     "execution_count": 64
    }
   ],
   "source": [
    "data_df"
   ]
  },
  {
   "cell_type": "code",
   "execution_count": 65,
   "metadata": {},
   "outputs": [
    {
     "output_type": "execute_result",
     "data": {
      "text/plain": [
       "(Timestamp('2017-11-01 00:00:00'), 'Golden State')"
      ]
     },
     "metadata": {},
     "execution_count": 65
    }
   ],
   "source": [
    "data_df['true-shooting-percentage'].idxmax()"
   ]
  },
  {
   "source": [
    "<h3>Convert the dataframes into a list 'training_data'\n",
    "Each element of training data represents one game. Each element contains the home team and away team data for that date and a bool detailing if the home team won</h3>"
   ],
   "cell_type": "markdown",
   "metadata": {}
  },
  {
   "cell_type": "code",
   "execution_count": 66,
   "metadata": {
    "tags": []
   },
   "outputs": [],
   "source": [
    "training_data = []\n",
    "for i in range(len(games_df)):\n",
    "    try:\n",
    "        game = games_df.loc[i]\n",
    "\n",
    "        homeTeam, awayTeam = str(game.Home), str(game.Away)\n",
    "        date_str = str(game.Date.date())\n",
    "        home_index = (date_str, homeTeam) # Index to get the stats for a team on a certain date from data_df\n",
    "        away_index = (date_str, awayTeam)\n",
    "        home_stats = data_df.loc[home_index].to_numpy()\n",
    "        home_stats = np.append(home_stats, [1]) # append 1 to array representing that this team was the home team\n",
    "        away_stats = data_df.loc[away_index].to_numpy()\n",
    "        # array_to_append = np.array([ np.array([home_stats.to_numpy(), away_stats.to_numpy()]), game.DidHomeWin])\n",
    "        # stats = np.array([home_stats.to_numpy(), away_stats.to_numpy()]) # make a 2d array for model eventually\n",
    "        training_data.append([home_stats, away_stats, int(game.DidHomeWin)]) # [1, 0 ] if AWAY WON,and [0,1] if HOME WON\n",
    "    except KeyError as e:\n",
    "        pass\n",
    "        #print(date_str) \n",
    "        #print(home_index)"
   ]
  },
  {
   "cell_type": "code",
   "execution_count": 67,
   "metadata": {},
   "outputs": [
    {
     "output_type": "stream",
     "name": "stdout",
     "text": [
      "5342\n"
     ]
    }
   ],
   "source": [
    "print(len(training_data))"
   ]
  },
  {
   "source": [
    "<h3>Turn the list into tensors and then a TensorDataset</h3>"
   ],
   "cell_type": "markdown",
   "metadata": {}
  },
  {
   "cell_type": "code",
   "execution_count": 68,
   "metadata": {},
   "outputs": [
    {
     "output_type": "stream",
     "name": "stdout",
     "text": [
      "x_vals[0]: tensor([-2.1032,  0.1393, -0.2538, -3.2969,  0.0705,  0.0154,  0.2876, -0.5143,\n        -3.3793, -3.0142,  2.8144,  1.8153,  0.0414,  2.3940, -0.5205,  3.2642,\n        -3.2643,  0.5205, -3.1294, -0.2079, -0.0287,  1.3544,  0.1644, -0.2212,\n        -0.0781, -1.2498,  1.9700,  0.1316, -0.1956,  1.8404,  1.4242,  0.3538,\n         0.1872,  0.6266, -0.6355,  0.6355, -0.6266, -2.6941]) \ny_vals[0]: 1\nx_vals.shape: torch.Size([5342, 38]) \ny_vals.shape: torch.Size([5342])\n"
     ]
    }
   ],
   "source": [
    "num_data_points = len(training_data[0][0])*2\n",
    "x_vals = [x[0:2] for x in training_data]\n",
    "x_vals = torch.FloatTensor(x_vals)\n",
    "x_vals = x_vals.view(-1, num_data_points)\n",
    "y_vals = [y[2] for y in training_data]\n",
    "y_vals = torch.LongTensor(y_vals)\n",
    "print(f'x_vals[0]: {x_vals[0]} \\ny_vals[0]: {y_vals[0]}')\n",
    "print(f'x_vals.shape: {x_vals.shape} \\ny_vals.shape: {y_vals.shape}')"
   ]
  },
  {
   "cell_type": "code",
   "execution_count": 69,
   "metadata": {},
   "outputs": [],
   "source": [
    "dataset = TensorDataset(x_vals, y_vals)\n",
    "train_ds, val_ds = random_split(dataset, [4842, 500])"
   ]
  },
  {
   "cell_type": "code",
   "execution_count": 70,
   "metadata": {},
   "outputs": [],
   "source": [
    "std_loader = DataLoader(train_ds, batch_size=len(train_ds), num_workers=1)\n",
    "data = next(iter(std_loader))"
   ]
  },
  {
   "cell_type": "code",
   "execution_count": 71,
   "metadata": {},
   "outputs": [],
   "source": [
    "# plt.hist(data[0]) #this takes a looonnngnggg time"
   ]
  },
  {
   "cell_type": "code",
   "execution_count": 113,
   "metadata": {},
   "outputs": [],
   "source": [
    "batch_size = 64\n",
    "train_loader = DataLoader(train_ds, batch_size, shuffle=True)\n",
    "val_loader = DataLoader(val_ds, batch_size)"
   ]
  },
  {
   "cell_type": "code",
   "execution_count": 114,
   "metadata": {},
   "outputs": [],
   "source": [
    "import torch.nn as nn\n",
    "import torch.nn.functional as F"
   ]
  },
  {
   "cell_type": "code",
   "execution_count": 115,
   "metadata": {},
   "outputs": [],
   "source": [
    "def accuracy(outputs, labels):\n",
    "    _, preds = torch.max(outputs, dim=1)\n",
    "    return torch.tensor(torch.sum(preds == labels).item() / len(preds))"
   ]
  },
  {
   "cell_type": "code",
   "execution_count": 116,
   "metadata": {},
   "outputs": [],
   "source": [
    "def evaluate(model, val_loader):\n",
    "    outputs = [model.validation_step(batch) for batch in val_loader]\n",
    "    return model.validation_epoch_end(outputs)"
   ]
  },
  {
   "cell_type": "code",
   "execution_count": 117,
   "metadata": {},
   "outputs": [],
   "source": [
    "\n",
    "class BBallNet(nn.Module):\n",
    "    def __init__(self):\n",
    "        super().__init__()\n",
    "        self.fc1 = nn.Linear(38, 64) \n",
    "        self.fc2 = nn.Linear(64, 128)\n",
    "        self.fc3 = nn.Linear(128, 128)\n",
    "        self.fc4 = nn.Linear(128, 64)\n",
    "        self.fc5 = nn.Linear(64,2)\n",
    "        \n",
    "    def forward(self, data):\n",
    "        out = self.fc1(data)\n",
    "        out = torch.sigmoid(out)\n",
    "        out = self.fc2(out)\n",
    "        out = torch.sigmoid(out)\n",
    "        out = self.fc3(out)\n",
    "        out = torch.sigmoid(out)\n",
    "        out = self.fc4(out)\n",
    "        out = torch.sigmoid(out)\n",
    "        out = self.fc5(out)\n",
    "        return out\n",
    "    \n",
    "    def training_step(self, batch):\n",
    "        data, win_labels = batch \n",
    "        out = self(data)                  # Generate predictions\n",
    "        loss = F.cross_entropy(out, win_labels) # Calculate loss\n",
    "        return loss\n",
    "    \n",
    "    def validation_step(self, batch):\n",
    "        images, labels = batch \n",
    "        out = self(images)                    # Generate predictions\n",
    "        loss = F.cross_entropy(out, labels)   # Calculate losszz\n",
    "        acc = accuracy(out, labels)           # Calculate accuracy\n",
    "        return {'val_loss': loss, 'val_acc': acc}\n",
    "        \n",
    "    def validation_epoch_end(self, outputs):\n",
    "        batch_losses = [x['val_loss'] for x in outputs]\n",
    "        epoch_loss = torch.stack(batch_losses).mean()   # Combine losses\n",
    "        batch_accs = [x['val_acc'] for x in outputs]\n",
    "        epoch_acc = torch.stack(batch_accs).mean()      # Combine accuracies\n",
    "        return {'val_loss': epoch_loss.item(), 'val_acc': epoch_acc.item()}\n",
    "    \n",
    "    def epoch_end(self, epoch, result):\n",
    "        print(\"Epoch [{}], val_loss: {:.4f}, val_acc: {:.4f}\".format(epoch, result['val_loss'], result['val_acc']))"
   ]
  },
  {
   "cell_type": "code",
   "execution_count": 131,
   "metadata": {},
   "outputs": [],
   "source": [
    "def fit(epochs, learning_rate, model, train_loader, val_loader, opt_func=torch.optim.AdamW): # mess around with optimizer\n",
    "    optimizer = opt_func(model.parameters(), learning_rate)\n",
    "    history = [] # for recording epoch-wise results\n",
    "    \n",
    "    for epoch in range(epochs):\n",
    "        # Training Phase \n",
    "        for batch in train_loader:\n",
    "            loss = model.training_step(batch)\n",
    "            loss.backward()\n",
    "            optimizer.step()\n",
    "            optimizer.zero_grad()\n",
    "        \n",
    "        # Validation phase\n",
    "        result = evaluate(model, val_loader)\n",
    "        model.epoch_end(epoch, result)\n",
    "        history.append(result)\n",
    "        adjust_learning_rate(learning_rate, optimizer, epoch)\n",
    "\n",
    "    return history"
   ]
  },
  {
   "cell_type": "code",
   "execution_count": 132,
   "metadata": {},
   "outputs": [],
   "source": [
    "def adjust_learning_rate(lr, optimizer, epoch):\n",
    "    \"\"\"Sets the learning rate to the initial LR decayed by 10 every 30 epochs\"\"\"\n",
    "    lr = lr * 0.2\n",
    "    for param_group in optimizer.param_groups:\n",
    "        param_group['lr'] = lr"
   ]
  },
  {
   "cell_type": "code",
   "execution_count": 133,
   "metadata": {},
   "outputs": [],
   "source": [
    "BBModel = BBallNet()"
   ]
  },
  {
   "cell_type": "code",
   "execution_count": 138,
   "metadata": {
    "tags": []
   },
   "outputs": [
    {
     "output_type": "stream",
     "name": "stdout",
     "text": [
      "Epoch [0], val_loss: 0.6199, val_acc: 0.6552\n",
      "Epoch [1], val_loss: 0.6193, val_acc: 0.6552\n",
      "Epoch [2], val_loss: 0.6177, val_acc: 0.6532\n",
      "Epoch [3], val_loss: 0.6166, val_acc: 0.6572\n",
      "Epoch [4], val_loss: 0.6162, val_acc: 0.6572\n",
      "Epoch [5], val_loss: 0.6135, val_acc: 0.6606\n",
      "Epoch [6], val_loss: 0.6129, val_acc: 0.6547\n",
      "Epoch [7], val_loss: 0.6156, val_acc: 0.6572\n",
      "Epoch [8], val_loss: 0.6132, val_acc: 0.6528\n",
      "Epoch [9], val_loss: 0.6174, val_acc: 0.6552\n",
      "Epoch [10], val_loss: 0.6120, val_acc: 0.6528\n",
      "Epoch [11], val_loss: 0.6144, val_acc: 0.6552\n",
      "Epoch [12], val_loss: 0.6117, val_acc: 0.6567\n",
      "Epoch [13], val_loss: 0.6108, val_acc: 0.6552\n",
      "Epoch [14], val_loss: 0.6157, val_acc: 0.6572\n",
      "Epoch [15], val_loss: 0.6114, val_acc: 0.6567\n",
      "Epoch [16], val_loss: 0.6139, val_acc: 0.6630\n",
      "Epoch [17], val_loss: 0.6090, val_acc: 0.6572\n",
      "Epoch [18], val_loss: 0.6095, val_acc: 0.6591\n",
      "Epoch [19], val_loss: 0.6092, val_acc: 0.6596\n"
     ]
    }
   ],
   "source": [
    "history = fit(20, 0.01, BBModel, train_loader, val_loader)"
   ]
  },
  {
   "cell_type": "code",
   "execution_count": 139,
   "metadata": {},
   "outputs": [
    {
     "output_type": "execute_result",
     "data": {
      "text/plain": [
       "Text(0.5, 1.0, 'Loss vs. No. of epochs')"
      ]
     },
     "metadata": {},
     "execution_count": 139
    },
    {
     "output_type": "display_data",
     "data": {
      "text/plain": "<Figure size 432x288 with 1 Axes>",
      "image/svg+xml": "<?xml version=\"1.0\" encoding=\"utf-8\" standalone=\"no\"?>\r\n<!DOCTYPE svg PUBLIC \"-//W3C//DTD SVG 1.1//EN\"\r\n  \"http://www.w3.org/Graphics/SVG/1.1/DTD/svg11.dtd\">\r\n<svg height=\"277.314375pt\" version=\"1.1\" viewBox=\"0 0 398.50625 277.314375\" width=\"398.50625pt\" xmlns=\"http://www.w3.org/2000/svg\" xmlns:xlink=\"http://www.w3.org/1999/xlink\">\r\n <metadata>\r\n  <rdf:RDF xmlns:cc=\"http://creativecommons.org/ns#\" xmlns:dc=\"http://purl.org/dc/elements/1.1/\" xmlns:rdf=\"http://www.w3.org/1999/02/22-rdf-syntax-ns#\">\r\n   <cc:Work>\r\n    <dc:type rdf:resource=\"http://purl.org/dc/dcmitype/StillImage\"/>\r\n    <dc:date>2021-04-11T13:51:05.700293</dc:date>\r\n    <dc:format>image/svg+xml</dc:format>\r\n    <dc:creator>\r\n     <cc:Agent>\r\n      <dc:title>Matplotlib v3.4.1, https://matplotlib.org/</dc:title>\r\n     </cc:Agent>\r\n    </dc:creator>\r\n   </cc:Work>\r\n  </rdf:RDF>\r\n </metadata>\r\n <defs>\r\n  <style type=\"text/css\">*{stroke-linecap:butt;stroke-linejoin:round;}</style>\r\n </defs>\r\n <g id=\"figure_1\">\r\n  <g id=\"patch_1\">\r\n   <path d=\"M 0 277.314375 \r\nL 398.50625 277.314375 \r\nL 398.50625 0 \r\nL 0 0 \r\nz\r\n\" style=\"fill:none;\"/>\r\n  </g>\r\n  <g id=\"axes_1\">\r\n   <g id=\"patch_2\">\r\n    <path d=\"M 56.50625 239.758125 \r\nL 391.30625 239.758125 \r\nL 391.30625 22.318125 \r\nL 56.50625 22.318125 \r\nz\r\n\" style=\"fill:#ffffff;\"/>\r\n   </g>\r\n   <g id=\"matplotlib.axis_1\">\r\n    <g id=\"xtick_1\">\r\n     <g id=\"line2d_1\">\r\n      <defs>\r\n       <path d=\"M 0 0 \r\nL 0 3.5 \r\n\" id=\"m38efcb210b\" style=\"stroke:#000000;stroke-width:0.8;\"/>\r\n      </defs>\r\n      <g>\r\n       <use style=\"stroke:#000000;stroke-width:0.8;\" x=\"71.724432\" xlink:href=\"#m38efcb210b\" y=\"239.758125\"/>\r\n      </g>\r\n     </g>\r\n     <g id=\"text_1\">\r\n      <!-- 0.0 -->\r\n      <g transform=\"translate(63.772869 254.356562)scale(0.1 -0.1)\">\r\n       <defs>\r\n        <path d=\"M 2034 4250 \r\nQ 1547 4250 1301 3770 \r\nQ 1056 3291 1056 2328 \r\nQ 1056 1369 1301 889 \r\nQ 1547 409 2034 409 \r\nQ 2525 409 2770 889 \r\nQ 3016 1369 3016 2328 \r\nQ 3016 3291 2770 3770 \r\nQ 2525 4250 2034 4250 \r\nz\r\nM 2034 4750 \r\nQ 2819 4750 3233 4129 \r\nQ 3647 3509 3647 2328 \r\nQ 3647 1150 3233 529 \r\nQ 2819 -91 2034 -91 \r\nQ 1250 -91 836 529 \r\nQ 422 1150 422 2328 \r\nQ 422 3509 836 4129 \r\nQ 1250 4750 2034 4750 \r\nz\r\n\" id=\"DejaVuSans-30\" transform=\"scale(0.015625)\"/>\r\n        <path d=\"M 684 794 \r\nL 1344 794 \r\nL 1344 0 \r\nL 684 0 \r\nL 684 794 \r\nz\r\n\" id=\"DejaVuSans-2e\" transform=\"scale(0.015625)\"/>\r\n       </defs>\r\n       <use xlink:href=\"#DejaVuSans-30\"/>\r\n       <use x=\"63.623047\" xlink:href=\"#DejaVuSans-2e\"/>\r\n       <use x=\"95.410156\" xlink:href=\"#DejaVuSans-30\"/>\r\n      </g>\r\n     </g>\r\n    </g>\r\n    <g id=\"xtick_2\">\r\n     <g id=\"line2d_2\">\r\n      <g>\r\n       <use style=\"stroke:#000000;stroke-width:0.8;\" x=\"111.772279\" xlink:href=\"#m38efcb210b\" y=\"239.758125\"/>\r\n      </g>\r\n     </g>\r\n     <g id=\"text_2\">\r\n      <!-- 2.5 -->\r\n      <g transform=\"translate(103.820716 254.356562)scale(0.1 -0.1)\">\r\n       <defs>\r\n        <path d=\"M 1228 531 \r\nL 3431 531 \r\nL 3431 0 \r\nL 469 0 \r\nL 469 531 \r\nQ 828 903 1448 1529 \r\nQ 2069 2156 2228 2338 \r\nQ 2531 2678 2651 2914 \r\nQ 2772 3150 2772 3378 \r\nQ 2772 3750 2511 3984 \r\nQ 2250 4219 1831 4219 \r\nQ 1534 4219 1204 4116 \r\nQ 875 4013 500 3803 \r\nL 500 4441 \r\nQ 881 4594 1212 4672 \r\nQ 1544 4750 1819 4750 \r\nQ 2544 4750 2975 4387 \r\nQ 3406 4025 3406 3419 \r\nQ 3406 3131 3298 2873 \r\nQ 3191 2616 2906 2266 \r\nQ 2828 2175 2409 1742 \r\nQ 1991 1309 1228 531 \r\nz\r\n\" id=\"DejaVuSans-32\" transform=\"scale(0.015625)\"/>\r\n        <path d=\"M 691 4666 \r\nL 3169 4666 \r\nL 3169 4134 \r\nL 1269 4134 \r\nL 1269 2991 \r\nQ 1406 3038 1543 3061 \r\nQ 1681 3084 1819 3084 \r\nQ 2600 3084 3056 2656 \r\nQ 3513 2228 3513 1497 \r\nQ 3513 744 3044 326 \r\nQ 2575 -91 1722 -91 \r\nQ 1428 -91 1123 -41 \r\nQ 819 9 494 109 \r\nL 494 744 \r\nQ 775 591 1075 516 \r\nQ 1375 441 1709 441 \r\nQ 2250 441 2565 725 \r\nQ 2881 1009 2881 1497 \r\nQ 2881 1984 2565 2268 \r\nQ 2250 2553 1709 2553 \r\nQ 1456 2553 1204 2497 \r\nQ 953 2441 691 2322 \r\nL 691 4666 \r\nz\r\n\" id=\"DejaVuSans-35\" transform=\"scale(0.015625)\"/>\r\n       </defs>\r\n       <use xlink:href=\"#DejaVuSans-32\"/>\r\n       <use x=\"63.623047\" xlink:href=\"#DejaVuSans-2e\"/>\r\n       <use x=\"95.410156\" xlink:href=\"#DejaVuSans-35\"/>\r\n      </g>\r\n     </g>\r\n    </g>\r\n    <g id=\"xtick_3\">\r\n     <g id=\"line2d_3\">\r\n      <g>\r\n       <use style=\"stroke:#000000;stroke-width:0.8;\" x=\"151.820126\" xlink:href=\"#m38efcb210b\" y=\"239.758125\"/>\r\n      </g>\r\n     </g>\r\n     <g id=\"text_3\">\r\n      <!-- 5.0 -->\r\n      <g transform=\"translate(143.868563 254.356562)scale(0.1 -0.1)\">\r\n       <use xlink:href=\"#DejaVuSans-35\"/>\r\n       <use x=\"63.623047\" xlink:href=\"#DejaVuSans-2e\"/>\r\n       <use x=\"95.410156\" xlink:href=\"#DejaVuSans-30\"/>\r\n      </g>\r\n     </g>\r\n    </g>\r\n    <g id=\"xtick_4\">\r\n     <g id=\"line2d_4\">\r\n      <g>\r\n       <use style=\"stroke:#000000;stroke-width:0.8;\" x=\"191.867972\" xlink:href=\"#m38efcb210b\" y=\"239.758125\"/>\r\n      </g>\r\n     </g>\r\n     <g id=\"text_4\">\r\n      <!-- 7.5 -->\r\n      <g transform=\"translate(183.91641 254.356562)scale(0.1 -0.1)\">\r\n       <defs>\r\n        <path d=\"M 525 4666 \r\nL 3525 4666 \r\nL 3525 4397 \r\nL 1831 0 \r\nL 1172 0 \r\nL 2766 4134 \r\nL 525 4134 \r\nL 525 4666 \r\nz\r\n\" id=\"DejaVuSans-37\" transform=\"scale(0.015625)\"/>\r\n       </defs>\r\n       <use xlink:href=\"#DejaVuSans-37\"/>\r\n       <use x=\"63.623047\" xlink:href=\"#DejaVuSans-2e\"/>\r\n       <use x=\"95.410156\" xlink:href=\"#DejaVuSans-35\"/>\r\n      </g>\r\n     </g>\r\n    </g>\r\n    <g id=\"xtick_5\">\r\n     <g id=\"line2d_5\">\r\n      <g>\r\n       <use style=\"stroke:#000000;stroke-width:0.8;\" x=\"231.915819\" xlink:href=\"#m38efcb210b\" y=\"239.758125\"/>\r\n      </g>\r\n     </g>\r\n     <g id=\"text_5\">\r\n      <!-- 10.0 -->\r\n      <g transform=\"translate(220.783007 254.356562)scale(0.1 -0.1)\">\r\n       <defs>\r\n        <path d=\"M 794 531 \r\nL 1825 531 \r\nL 1825 4091 \r\nL 703 3866 \r\nL 703 4441 \r\nL 1819 4666 \r\nL 2450 4666 \r\nL 2450 531 \r\nL 3481 531 \r\nL 3481 0 \r\nL 794 0 \r\nL 794 531 \r\nz\r\n\" id=\"DejaVuSans-31\" transform=\"scale(0.015625)\"/>\r\n       </defs>\r\n       <use xlink:href=\"#DejaVuSans-31\"/>\r\n       <use x=\"63.623047\" xlink:href=\"#DejaVuSans-30\"/>\r\n       <use x=\"127.246094\" xlink:href=\"#DejaVuSans-2e\"/>\r\n       <use x=\"159.033203\" xlink:href=\"#DejaVuSans-30\"/>\r\n      </g>\r\n     </g>\r\n    </g>\r\n    <g id=\"xtick_6\">\r\n     <g id=\"line2d_6\">\r\n      <g>\r\n       <use style=\"stroke:#000000;stroke-width:0.8;\" x=\"271.963666\" xlink:href=\"#m38efcb210b\" y=\"239.758125\"/>\r\n      </g>\r\n     </g>\r\n     <g id=\"text_6\">\r\n      <!-- 12.5 -->\r\n      <g transform=\"translate(260.830854 254.356562)scale(0.1 -0.1)\">\r\n       <use xlink:href=\"#DejaVuSans-31\"/>\r\n       <use x=\"63.623047\" xlink:href=\"#DejaVuSans-32\"/>\r\n       <use x=\"127.246094\" xlink:href=\"#DejaVuSans-2e\"/>\r\n       <use x=\"159.033203\" xlink:href=\"#DejaVuSans-35\"/>\r\n      </g>\r\n     </g>\r\n    </g>\r\n    <g id=\"xtick_7\">\r\n     <g id=\"line2d_7\">\r\n      <g>\r\n       <use style=\"stroke:#000000;stroke-width:0.8;\" x=\"312.011513\" xlink:href=\"#m38efcb210b\" y=\"239.758125\"/>\r\n      </g>\r\n     </g>\r\n     <g id=\"text_7\">\r\n      <!-- 15.0 -->\r\n      <g transform=\"translate(300.878701 254.356562)scale(0.1 -0.1)\">\r\n       <use xlink:href=\"#DejaVuSans-31\"/>\r\n       <use x=\"63.623047\" xlink:href=\"#DejaVuSans-35\"/>\r\n       <use x=\"127.246094\" xlink:href=\"#DejaVuSans-2e\"/>\r\n       <use x=\"159.033203\" xlink:href=\"#DejaVuSans-30\"/>\r\n      </g>\r\n     </g>\r\n    </g>\r\n    <g id=\"xtick_8\">\r\n     <g id=\"line2d_8\">\r\n      <g>\r\n       <use style=\"stroke:#000000;stroke-width:0.8;\" x=\"352.05936\" xlink:href=\"#m38efcb210b\" y=\"239.758125\"/>\r\n      </g>\r\n     </g>\r\n     <g id=\"text_8\">\r\n      <!-- 17.5 -->\r\n      <g transform=\"translate(340.926548 254.356562)scale(0.1 -0.1)\">\r\n       <use xlink:href=\"#DejaVuSans-31\"/>\r\n       <use x=\"63.623047\" xlink:href=\"#DejaVuSans-37\"/>\r\n       <use x=\"127.246094\" xlink:href=\"#DejaVuSans-2e\"/>\r\n       <use x=\"159.033203\" xlink:href=\"#DejaVuSans-35\"/>\r\n      </g>\r\n     </g>\r\n    </g>\r\n    <g id=\"text_9\">\r\n     <!-- epoch -->\r\n     <g transform=\"translate(208.678125 268.034687)scale(0.1 -0.1)\">\r\n      <defs>\r\n       <path d=\"M 3597 1894 \r\nL 3597 1613 \r\nL 953 1613 \r\nQ 991 1019 1311 708 \r\nQ 1631 397 2203 397 \r\nQ 2534 397 2845 478 \r\nQ 3156 559 3463 722 \r\nL 3463 178 \r\nQ 3153 47 2828 -22 \r\nQ 2503 -91 2169 -91 \r\nQ 1331 -91 842 396 \r\nQ 353 884 353 1716 \r\nQ 353 2575 817 3079 \r\nQ 1281 3584 2069 3584 \r\nQ 2775 3584 3186 3129 \r\nQ 3597 2675 3597 1894 \r\nz\r\nM 3022 2063 \r\nQ 3016 2534 2758 2815 \r\nQ 2500 3097 2075 3097 \r\nQ 1594 3097 1305 2825 \r\nQ 1016 2553 972 2059 \r\nL 3022 2063 \r\nz\r\n\" id=\"DejaVuSans-65\" transform=\"scale(0.015625)\"/>\r\n       <path d=\"M 1159 525 \r\nL 1159 -1331 \r\nL 581 -1331 \r\nL 581 3500 \r\nL 1159 3500 \r\nL 1159 2969 \r\nQ 1341 3281 1617 3432 \r\nQ 1894 3584 2278 3584 \r\nQ 2916 3584 3314 3078 \r\nQ 3713 2572 3713 1747 \r\nQ 3713 922 3314 415 \r\nQ 2916 -91 2278 -91 \r\nQ 1894 -91 1617 61 \r\nQ 1341 213 1159 525 \r\nz\r\nM 3116 1747 \r\nQ 3116 2381 2855 2742 \r\nQ 2594 3103 2138 3103 \r\nQ 1681 3103 1420 2742 \r\nQ 1159 2381 1159 1747 \r\nQ 1159 1113 1420 752 \r\nQ 1681 391 2138 391 \r\nQ 2594 391 2855 752 \r\nQ 3116 1113 3116 1747 \r\nz\r\n\" id=\"DejaVuSans-70\" transform=\"scale(0.015625)\"/>\r\n       <path d=\"M 1959 3097 \r\nQ 1497 3097 1228 2736 \r\nQ 959 2375 959 1747 \r\nQ 959 1119 1226 758 \r\nQ 1494 397 1959 397 \r\nQ 2419 397 2687 759 \r\nQ 2956 1122 2956 1747 \r\nQ 2956 2369 2687 2733 \r\nQ 2419 3097 1959 3097 \r\nz\r\nM 1959 3584 \r\nQ 2709 3584 3137 3096 \r\nQ 3566 2609 3566 1747 \r\nQ 3566 888 3137 398 \r\nQ 2709 -91 1959 -91 \r\nQ 1206 -91 779 398 \r\nQ 353 888 353 1747 \r\nQ 353 2609 779 3096 \r\nQ 1206 3584 1959 3584 \r\nz\r\n\" id=\"DejaVuSans-6f\" transform=\"scale(0.015625)\"/>\r\n       <path d=\"M 3122 3366 \r\nL 3122 2828 \r\nQ 2878 2963 2633 3030 \r\nQ 2388 3097 2138 3097 \r\nQ 1578 3097 1268 2742 \r\nQ 959 2388 959 1747 \r\nQ 959 1106 1268 751 \r\nQ 1578 397 2138 397 \r\nQ 2388 397 2633 464 \r\nQ 2878 531 3122 666 \r\nL 3122 134 \r\nQ 2881 22 2623 -34 \r\nQ 2366 -91 2075 -91 \r\nQ 1284 -91 818 406 \r\nQ 353 903 353 1747 \r\nQ 353 2603 823 3093 \r\nQ 1294 3584 2113 3584 \r\nQ 2378 3584 2631 3529 \r\nQ 2884 3475 3122 3366 \r\nz\r\n\" id=\"DejaVuSans-63\" transform=\"scale(0.015625)\"/>\r\n       <path d=\"M 3513 2113 \r\nL 3513 0 \r\nL 2938 0 \r\nL 2938 2094 \r\nQ 2938 2591 2744 2837 \r\nQ 2550 3084 2163 3084 \r\nQ 1697 3084 1428 2787 \r\nQ 1159 2491 1159 1978 \r\nL 1159 0 \r\nL 581 0 \r\nL 581 4863 \r\nL 1159 4863 \r\nL 1159 2956 \r\nQ 1366 3272 1645 3428 \r\nQ 1925 3584 2291 3584 \r\nQ 2894 3584 3203 3211 \r\nQ 3513 2838 3513 2113 \r\nz\r\n\" id=\"DejaVuSans-68\" transform=\"scale(0.015625)\"/>\r\n      </defs>\r\n      <use xlink:href=\"#DejaVuSans-65\"/>\r\n      <use x=\"61.523438\" xlink:href=\"#DejaVuSans-70\"/>\r\n      <use x=\"125\" xlink:href=\"#DejaVuSans-6f\"/>\r\n      <use x=\"186.181641\" xlink:href=\"#DejaVuSans-63\"/>\r\n      <use x=\"241.162109\" xlink:href=\"#DejaVuSans-68\"/>\r\n     </g>\r\n    </g>\r\n   </g>\r\n   <g id=\"matplotlib.axis_2\">\r\n    <g id=\"ytick_1\">\r\n     <g id=\"line2d_9\">\r\n      <defs>\r\n       <path d=\"M 0 0 \r\nL -3.5 0 \r\n\" id=\"m8dd099e2b2\" style=\"stroke:#000000;stroke-width:0.8;\"/>\r\n      </defs>\r\n      <g>\r\n       <use style=\"stroke:#000000;stroke-width:0.8;\" x=\"56.50625\" xlink:href=\"#m8dd099e2b2\" y=\"211.676815\"/>\r\n      </g>\r\n     </g>\r\n     <g id=\"text_10\">\r\n      <!-- 0.610 -->\r\n      <g transform=\"translate(20.878125 215.476033)scale(0.1 -0.1)\">\r\n       <defs>\r\n        <path d=\"M 2113 2584 \r\nQ 1688 2584 1439 2293 \r\nQ 1191 2003 1191 1497 \r\nQ 1191 994 1439 701 \r\nQ 1688 409 2113 409 \r\nQ 2538 409 2786 701 \r\nQ 3034 994 3034 1497 \r\nQ 3034 2003 2786 2293 \r\nQ 2538 2584 2113 2584 \r\nz\r\nM 3366 4563 \r\nL 3366 3988 \r\nQ 3128 4100 2886 4159 \r\nQ 2644 4219 2406 4219 \r\nQ 1781 4219 1451 3797 \r\nQ 1122 3375 1075 2522 \r\nQ 1259 2794 1537 2939 \r\nQ 1816 3084 2150 3084 \r\nQ 2853 3084 3261 2657 \r\nQ 3669 2231 3669 1497 \r\nQ 3669 778 3244 343 \r\nQ 2819 -91 2113 -91 \r\nQ 1303 -91 875 529 \r\nQ 447 1150 447 2328 \r\nQ 447 3434 972 4092 \r\nQ 1497 4750 2381 4750 \r\nQ 2619 4750 2861 4703 \r\nQ 3103 4656 3366 4563 \r\nz\r\n\" id=\"DejaVuSans-36\" transform=\"scale(0.015625)\"/>\r\n       </defs>\r\n       <use xlink:href=\"#DejaVuSans-30\"/>\r\n       <use x=\"63.623047\" xlink:href=\"#DejaVuSans-2e\"/>\r\n       <use x=\"95.410156\" xlink:href=\"#DejaVuSans-36\"/>\r\n       <use x=\"159.033203\" xlink:href=\"#DejaVuSans-31\"/>\r\n       <use x=\"222.65625\" xlink:href=\"#DejaVuSans-30\"/>\r\n      </g>\r\n     </g>\r\n    </g>\r\n    <g id=\"ytick_2\">\r\n     <g id=\"line2d_10\">\r\n      <g>\r\n       <use style=\"stroke:#000000;stroke-width:0.8;\" x=\"56.50625\" xlink:href=\"#m8dd099e2b2\" y=\"175.390784\"/>\r\n      </g>\r\n     </g>\r\n     <g id=\"text_11\">\r\n      <!-- 0.612 -->\r\n      <g transform=\"translate(20.878125 179.190003)scale(0.1 -0.1)\">\r\n       <use xlink:href=\"#DejaVuSans-30\"/>\r\n       <use x=\"63.623047\" xlink:href=\"#DejaVuSans-2e\"/>\r\n       <use x=\"95.410156\" xlink:href=\"#DejaVuSans-36\"/>\r\n       <use x=\"159.033203\" xlink:href=\"#DejaVuSans-31\"/>\r\n       <use x=\"222.65625\" xlink:href=\"#DejaVuSans-32\"/>\r\n      </g>\r\n     </g>\r\n    </g>\r\n    <g id=\"ytick_3\">\r\n     <g id=\"line2d_11\">\r\n      <g>\r\n       <use style=\"stroke:#000000;stroke-width:0.8;\" x=\"56.50625\" xlink:href=\"#m8dd099e2b2\" y=\"139.104754\"/>\r\n      </g>\r\n     </g>\r\n     <g id=\"text_12\">\r\n      <!-- 0.614 -->\r\n      <g transform=\"translate(20.878125 142.903972)scale(0.1 -0.1)\">\r\n       <defs>\r\n        <path d=\"M 2419 4116 \r\nL 825 1625 \r\nL 2419 1625 \r\nL 2419 4116 \r\nz\r\nM 2253 4666 \r\nL 3047 4666 \r\nL 3047 1625 \r\nL 3713 1625 \r\nL 3713 1100 \r\nL 3047 1100 \r\nL 3047 0 \r\nL 2419 0 \r\nL 2419 1100 \r\nL 313 1100 \r\nL 313 1709 \r\nL 2253 4666 \r\nz\r\n\" id=\"DejaVuSans-34\" transform=\"scale(0.015625)\"/>\r\n       </defs>\r\n       <use xlink:href=\"#DejaVuSans-30\"/>\r\n       <use x=\"63.623047\" xlink:href=\"#DejaVuSans-2e\"/>\r\n       <use x=\"95.410156\" xlink:href=\"#DejaVuSans-36\"/>\r\n       <use x=\"159.033203\" xlink:href=\"#DejaVuSans-31\"/>\r\n       <use x=\"222.65625\" xlink:href=\"#DejaVuSans-34\"/>\r\n      </g>\r\n     </g>\r\n    </g>\r\n    <g id=\"ytick_4\">\r\n     <g id=\"line2d_12\">\r\n      <g>\r\n       <use style=\"stroke:#000000;stroke-width:0.8;\" x=\"56.50625\" xlink:href=\"#m8dd099e2b2\" y=\"102.818723\"/>\r\n      </g>\r\n     </g>\r\n     <g id=\"text_13\">\r\n      <!-- 0.616 -->\r\n      <g transform=\"translate(20.878125 106.617942)scale(0.1 -0.1)\">\r\n       <use xlink:href=\"#DejaVuSans-30\"/>\r\n       <use x=\"63.623047\" xlink:href=\"#DejaVuSans-2e\"/>\r\n       <use x=\"95.410156\" xlink:href=\"#DejaVuSans-36\"/>\r\n       <use x=\"159.033203\" xlink:href=\"#DejaVuSans-31\"/>\r\n       <use x=\"222.65625\" xlink:href=\"#DejaVuSans-36\"/>\r\n      </g>\r\n     </g>\r\n    </g>\r\n    <g id=\"ytick_5\">\r\n     <g id=\"line2d_13\">\r\n      <g>\r\n       <use style=\"stroke:#000000;stroke-width:0.8;\" x=\"56.50625\" xlink:href=\"#m8dd099e2b2\" y=\"66.532693\"/>\r\n      </g>\r\n     </g>\r\n     <g id=\"text_14\">\r\n      <!-- 0.618 -->\r\n      <g transform=\"translate(20.878125 70.331911)scale(0.1 -0.1)\">\r\n       <defs>\r\n        <path d=\"M 2034 2216 \r\nQ 1584 2216 1326 1975 \r\nQ 1069 1734 1069 1313 \r\nQ 1069 891 1326 650 \r\nQ 1584 409 2034 409 \r\nQ 2484 409 2743 651 \r\nQ 3003 894 3003 1313 \r\nQ 3003 1734 2745 1975 \r\nQ 2488 2216 2034 2216 \r\nz\r\nM 1403 2484 \r\nQ 997 2584 770 2862 \r\nQ 544 3141 544 3541 \r\nQ 544 4100 942 4425 \r\nQ 1341 4750 2034 4750 \r\nQ 2731 4750 3128 4425 \r\nQ 3525 4100 3525 3541 \r\nQ 3525 3141 3298 2862 \r\nQ 3072 2584 2669 2484 \r\nQ 3125 2378 3379 2068 \r\nQ 3634 1759 3634 1313 \r\nQ 3634 634 3220 271 \r\nQ 2806 -91 2034 -91 \r\nQ 1263 -91 848 271 \r\nQ 434 634 434 1313 \r\nQ 434 1759 690 2068 \r\nQ 947 2378 1403 2484 \r\nz\r\nM 1172 3481 \r\nQ 1172 3119 1398 2916 \r\nQ 1625 2713 2034 2713 \r\nQ 2441 2713 2670 2916 \r\nQ 2900 3119 2900 3481 \r\nQ 2900 3844 2670 4047 \r\nQ 2441 4250 2034 4250 \r\nQ 1625 4250 1398 4047 \r\nQ 1172 3844 1172 3481 \r\nz\r\n\" id=\"DejaVuSans-38\" transform=\"scale(0.015625)\"/>\r\n       </defs>\r\n       <use xlink:href=\"#DejaVuSans-30\"/>\r\n       <use x=\"63.623047\" xlink:href=\"#DejaVuSans-2e\"/>\r\n       <use x=\"95.410156\" xlink:href=\"#DejaVuSans-36\"/>\r\n       <use x=\"159.033203\" xlink:href=\"#DejaVuSans-31\"/>\r\n       <use x=\"222.65625\" xlink:href=\"#DejaVuSans-38\"/>\r\n      </g>\r\n     </g>\r\n    </g>\r\n    <g id=\"ytick_6\">\r\n     <g id=\"line2d_14\">\r\n      <g>\r\n       <use style=\"stroke:#000000;stroke-width:0.8;\" x=\"56.50625\" xlink:href=\"#m8dd099e2b2\" y=\"30.246662\"/>\r\n      </g>\r\n     </g>\r\n     <g id=\"text_15\">\r\n      <!-- 0.620 -->\r\n      <g transform=\"translate(20.878125 34.045881)scale(0.1 -0.1)\">\r\n       <use xlink:href=\"#DejaVuSans-30\"/>\r\n       <use x=\"63.623047\" xlink:href=\"#DejaVuSans-2e\"/>\r\n       <use x=\"95.410156\" xlink:href=\"#DejaVuSans-36\"/>\r\n       <use x=\"159.033203\" xlink:href=\"#DejaVuSans-32\"/>\r\n       <use x=\"222.65625\" xlink:href=\"#DejaVuSans-30\"/>\r\n      </g>\r\n     </g>\r\n    </g>\r\n    <g id=\"text_16\">\r\n     <!-- loss -->\r\n     <g transform=\"translate(14.798438 140.695937)rotate(-90)scale(0.1 -0.1)\">\r\n      <defs>\r\n       <path d=\"M 603 4863 \r\nL 1178 4863 \r\nL 1178 0 \r\nL 603 0 \r\nL 603 4863 \r\nz\r\n\" id=\"DejaVuSans-6c\" transform=\"scale(0.015625)\"/>\r\n       <path d=\"M 2834 3397 \r\nL 2834 2853 \r\nQ 2591 2978 2328 3040 \r\nQ 2066 3103 1784 3103 \r\nQ 1356 3103 1142 2972 \r\nQ 928 2841 928 2578 \r\nQ 928 2378 1081 2264 \r\nQ 1234 2150 1697 2047 \r\nL 1894 2003 \r\nQ 2506 1872 2764 1633 \r\nQ 3022 1394 3022 966 \r\nQ 3022 478 2636 193 \r\nQ 2250 -91 1575 -91 \r\nQ 1294 -91 989 -36 \r\nQ 684 19 347 128 \r\nL 347 722 \r\nQ 666 556 975 473 \r\nQ 1284 391 1588 391 \r\nQ 1994 391 2212 530 \r\nQ 2431 669 2431 922 \r\nQ 2431 1156 2273 1281 \r\nQ 2116 1406 1581 1522 \r\nL 1381 1569 \r\nQ 847 1681 609 1914 \r\nQ 372 2147 372 2553 \r\nQ 372 3047 722 3315 \r\nQ 1072 3584 1716 3584 \r\nQ 2034 3584 2315 3537 \r\nQ 2597 3491 2834 3397 \r\nz\r\n\" id=\"DejaVuSans-73\" transform=\"scale(0.015625)\"/>\r\n      </defs>\r\n      <use xlink:href=\"#DejaVuSans-6c\"/>\r\n      <use x=\"27.783203\" xlink:href=\"#DejaVuSans-6f\"/>\r\n      <use x=\"88.964844\" xlink:href=\"#DejaVuSans-73\"/>\r\n      <use x=\"141.064453\" xlink:href=\"#DejaVuSans-73\"/>\r\n     </g>\r\n    </g>\r\n   </g>\r\n   <g id=\"line2d_15\">\r\n    <path clip-path=\"url(#p41c1643665)\" d=\"M 71.724432 32.201761 \r\nL 87.743571 42.341043 \r\nL 103.762709 72.105716 \r\nL 119.781848 92.185299 \r\nL 135.800987 98.828388 \r\nL 151.820126 148.800251 \r\nL 167.839264 159.34506 \r\nL 183.858403 109.991763 \r\nL 199.877542 153.010172 \r\nL 215.896681 77.511674 \r\nL 231.915819 175.823555 \r\nL 247.934958 131.282523 \r\nL 263.954097 180.921312 \r\nL 279.973236 197.964302 \r\nL 295.992374 107.506687 \r\nL 312.011513 186.476505 \r\nL 328.030652 140.210627 \r\nL 344.049791 229.874489 \r\nL 360.068929 221.322714 \r\nL 376.088068 225.65916 \r\n\" style=\"fill:none;stroke:#1f77b4;stroke-linecap:square;stroke-width:1.5;\"/>\r\n    <defs>\r\n     <path d=\"M -3 3 \r\nL 3 -3 \r\nM -3 -3 \r\nL 3 3 \r\n\" id=\"m11a582474e\" style=\"stroke:#1f77b4;\"/>\r\n    </defs>\r\n    <g clip-path=\"url(#p41c1643665)\">\r\n     <use style=\"fill:#1f77b4;stroke:#1f77b4;\" x=\"71.724432\" xlink:href=\"#m11a582474e\" y=\"32.201761\"/>\r\n     <use style=\"fill:#1f77b4;stroke:#1f77b4;\" x=\"87.743571\" xlink:href=\"#m11a582474e\" y=\"42.341043\"/>\r\n     <use style=\"fill:#1f77b4;stroke:#1f77b4;\" x=\"103.762709\" xlink:href=\"#m11a582474e\" y=\"72.105716\"/>\r\n     <use style=\"fill:#1f77b4;stroke:#1f77b4;\" x=\"119.781848\" xlink:href=\"#m11a582474e\" y=\"92.185299\"/>\r\n     <use style=\"fill:#1f77b4;stroke:#1f77b4;\" x=\"135.800987\" xlink:href=\"#m11a582474e\" y=\"98.828388\"/>\r\n     <use style=\"fill:#1f77b4;stroke:#1f77b4;\" x=\"151.820126\" xlink:href=\"#m11a582474e\" y=\"148.800251\"/>\r\n     <use style=\"fill:#1f77b4;stroke:#1f77b4;\" x=\"167.839264\" xlink:href=\"#m11a582474e\" y=\"159.34506\"/>\r\n     <use style=\"fill:#1f77b4;stroke:#1f77b4;\" x=\"183.858403\" xlink:href=\"#m11a582474e\" y=\"109.991763\"/>\r\n     <use style=\"fill:#1f77b4;stroke:#1f77b4;\" x=\"199.877542\" xlink:href=\"#m11a582474e\" y=\"153.010172\"/>\r\n     <use style=\"fill:#1f77b4;stroke:#1f77b4;\" x=\"215.896681\" xlink:href=\"#m11a582474e\" y=\"77.511674\"/>\r\n     <use style=\"fill:#1f77b4;stroke:#1f77b4;\" x=\"231.915819\" xlink:href=\"#m11a582474e\" y=\"175.823555\"/>\r\n     <use style=\"fill:#1f77b4;stroke:#1f77b4;\" x=\"247.934958\" xlink:href=\"#m11a582474e\" y=\"131.282523\"/>\r\n     <use style=\"fill:#1f77b4;stroke:#1f77b4;\" x=\"263.954097\" xlink:href=\"#m11a582474e\" y=\"180.921312\"/>\r\n     <use style=\"fill:#1f77b4;stroke:#1f77b4;\" x=\"279.973236\" xlink:href=\"#m11a582474e\" y=\"197.964302\"/>\r\n     <use style=\"fill:#1f77b4;stroke:#1f77b4;\" x=\"295.992374\" xlink:href=\"#m11a582474e\" y=\"107.506687\"/>\r\n     <use style=\"fill:#1f77b4;stroke:#1f77b4;\" x=\"312.011513\" xlink:href=\"#m11a582474e\" y=\"186.476505\"/>\r\n     <use style=\"fill:#1f77b4;stroke:#1f77b4;\" x=\"328.030652\" xlink:href=\"#m11a582474e\" y=\"140.210627\"/>\r\n     <use style=\"fill:#1f77b4;stroke:#1f77b4;\" x=\"344.049791\" xlink:href=\"#m11a582474e\" y=\"229.874489\"/>\r\n     <use style=\"fill:#1f77b4;stroke:#1f77b4;\" x=\"360.068929\" xlink:href=\"#m11a582474e\" y=\"221.322714\"/>\r\n     <use style=\"fill:#1f77b4;stroke:#1f77b4;\" x=\"376.088068\" xlink:href=\"#m11a582474e\" y=\"225.65916\"/>\r\n    </g>\r\n   </g>\r\n   <g id=\"patch_3\">\r\n    <path d=\"M 56.50625 239.758125 \r\nL 56.50625 22.318125 \r\n\" style=\"fill:none;stroke:#000000;stroke-linecap:square;stroke-linejoin:miter;stroke-width:0.8;\"/>\r\n   </g>\r\n   <g id=\"patch_4\">\r\n    <path d=\"M 391.30625 239.758125 \r\nL 391.30625 22.318125 \r\n\" style=\"fill:none;stroke:#000000;stroke-linecap:square;stroke-linejoin:miter;stroke-width:0.8;\"/>\r\n   </g>\r\n   <g id=\"patch_5\">\r\n    <path d=\"M 56.50625 239.758125 \r\nL 391.30625 239.758125 \r\n\" style=\"fill:none;stroke:#000000;stroke-linecap:square;stroke-linejoin:miter;stroke-width:0.8;\"/>\r\n   </g>\r\n   <g id=\"patch_6\">\r\n    <path d=\"M 56.50625 22.318125 \r\nL 391.30625 22.318125 \r\n\" style=\"fill:none;stroke:#000000;stroke-linecap:square;stroke-linejoin:miter;stroke-width:0.8;\"/>\r\n   </g>\r\n   <g id=\"text_17\">\r\n    <!-- Loss vs. No. of epochs -->\r\n    <g transform=\"translate(157.389688 16.318125)scale(0.12 -0.12)\">\r\n     <defs>\r\n      <path d=\"M 628 4666 \r\nL 1259 4666 \r\nL 1259 531 \r\nL 3531 531 \r\nL 3531 0 \r\nL 628 0 \r\nL 628 4666 \r\nz\r\n\" id=\"DejaVuSans-4c\" transform=\"scale(0.015625)\"/>\r\n      <path id=\"DejaVuSans-20\" transform=\"scale(0.015625)\"/>\r\n      <path d=\"M 191 3500 \r\nL 800 3500 \r\nL 1894 563 \r\nL 2988 3500 \r\nL 3597 3500 \r\nL 2284 0 \r\nL 1503 0 \r\nL 191 3500 \r\nz\r\n\" id=\"DejaVuSans-76\" transform=\"scale(0.015625)\"/>\r\n      <path d=\"M 628 4666 \r\nL 1478 4666 \r\nL 3547 763 \r\nL 3547 4666 \r\nL 4159 4666 \r\nL 4159 0 \r\nL 3309 0 \r\nL 1241 3903 \r\nL 1241 0 \r\nL 628 0 \r\nL 628 4666 \r\nz\r\n\" id=\"DejaVuSans-4e\" transform=\"scale(0.015625)\"/>\r\n      <path d=\"M 2375 4863 \r\nL 2375 4384 \r\nL 1825 4384 \r\nQ 1516 4384 1395 4259 \r\nQ 1275 4134 1275 3809 \r\nL 1275 3500 \r\nL 2222 3500 \r\nL 2222 3053 \r\nL 1275 3053 \r\nL 1275 0 \r\nL 697 0 \r\nL 697 3053 \r\nL 147 3053 \r\nL 147 3500 \r\nL 697 3500 \r\nL 697 3744 \r\nQ 697 4328 969 4595 \r\nQ 1241 4863 1831 4863 \r\nL 2375 4863 \r\nz\r\n\" id=\"DejaVuSans-66\" transform=\"scale(0.015625)\"/>\r\n     </defs>\r\n     <use xlink:href=\"#DejaVuSans-4c\"/>\r\n     <use x=\"53.962891\" xlink:href=\"#DejaVuSans-6f\"/>\r\n     <use x=\"115.144531\" xlink:href=\"#DejaVuSans-73\"/>\r\n     <use x=\"167.244141\" xlink:href=\"#DejaVuSans-73\"/>\r\n     <use x=\"219.34375\" xlink:href=\"#DejaVuSans-20\"/>\r\n     <use x=\"251.130859\" xlink:href=\"#DejaVuSans-76\"/>\r\n     <use x=\"310.310547\" xlink:href=\"#DejaVuSans-73\"/>\r\n     <use x=\"362.410156\" xlink:href=\"#DejaVuSans-2e\"/>\r\n     <use x=\"394.197266\" xlink:href=\"#DejaVuSans-20\"/>\r\n     <use x=\"425.984375\" xlink:href=\"#DejaVuSans-4e\"/>\r\n     <use x=\"500.789062\" xlink:href=\"#DejaVuSans-6f\"/>\r\n     <use x=\"560.220703\" xlink:href=\"#DejaVuSans-2e\"/>\r\n     <use x=\"592.007812\" xlink:href=\"#DejaVuSans-20\"/>\r\n     <use x=\"623.794922\" xlink:href=\"#DejaVuSans-6f\"/>\r\n     <use x=\"684.976562\" xlink:href=\"#DejaVuSans-66\"/>\r\n     <use x=\"720.181641\" xlink:href=\"#DejaVuSans-20\"/>\r\n     <use x=\"751.96875\" xlink:href=\"#DejaVuSans-65\"/>\r\n     <use x=\"813.492188\" xlink:href=\"#DejaVuSans-70\"/>\r\n     <use x=\"876.96875\" xlink:href=\"#DejaVuSans-6f\"/>\r\n     <use x=\"938.150391\" xlink:href=\"#DejaVuSans-63\"/>\r\n     <use x=\"993.130859\" xlink:href=\"#DejaVuSans-68\"/>\r\n     <use x=\"1056.509766\" xlink:href=\"#DejaVuSans-73\"/>\r\n    </g>\r\n   </g>\r\n  </g>\r\n </g>\r\n <defs>\r\n  <clipPath id=\"p41c1643665\">\r\n   <rect height=\"217.44\" width=\"334.8\" x=\"56.50625\" y=\"22.318125\"/>\r\n  </clipPath>\r\n </defs>\r\n</svg>\r\n",
      "image/png": "[encoded data removed]"
     },
     "metadata": {
      "needs_background": "light"
     }
    }
   ],
   "source": [
    "losses = [x['val_loss'] for x in history]\n",
    "plt.plot(losses, '-x')\n",
    "plt.xlabel('epoch')\n",
    "plt.ylabel('loss')\n",
    "plt.title('Loss vs. No. of epochs')"
   ]
  },
  {
   "cell_type": "code",
   "execution_count": 140,
   "metadata": {},
   "outputs": [
    {
     "output_type": "execute_result",
     "data": {
      "text/plain": [
       "Text(0.5, 1.0, 'Accuracy vs. No. of epochs')"
      ]
     },
     "metadata": {},
     "execution_count": 140
    },
    {
     "output_type": "display_data",
     "data": {
      "text/plain": "<Figure size 432x288 with 1 Axes>",
      "image/svg+xml": "<?xml version=\"1.0\" encoding=\"utf-8\" standalone=\"no\"?>\r\n<!DOCTYPE svg PUBLIC \"-//W3C//DTD SVG 1.1//EN\"\r\n  \"http://www.w3.org/Graphics/SVG/1.1/DTD/svg11.dtd\">\r\n<svg height=\"277.314375pt\" version=\"1.1\" viewBox=\"0 0 398.50625 277.314375\" width=\"398.50625pt\" xmlns=\"http://www.w3.org/2000/svg\" xmlns:xlink=\"http://www.w3.org/1999/xlink\">\r\n <metadata>\r\n  <rdf:RDF xmlns:cc=\"http://creativecommons.org/ns#\" xmlns:dc=\"http://purl.org/dc/elements/1.1/\" xmlns:rdf=\"http://www.w3.org/1999/02/22-rdf-syntax-ns#\">\r\n   <cc:Work>\r\n    <dc:type rdf:resource=\"http://purl.org/dc/dcmitype/StillImage\"/>\r\n    <dc:date>2021-04-11T13:51:06.071486</dc:date>\r\n    <dc:format>image/svg+xml</dc:format>\r\n    <dc:creator>\r\n     <cc:Agent>\r\n      <dc:title>Matplotlib v3.4.1, https://matplotlib.org/</dc:title>\r\n     </cc:Agent>\r\n    </dc:creator>\r\n   </cc:Work>\r\n  </rdf:RDF>\r\n </metadata>\r\n <defs>\r\n  <style type=\"text/css\">*{stroke-linecap:butt;stroke-linejoin:round;}</style>\r\n </defs>\r\n <g id=\"figure_1\">\r\n  <g id=\"patch_1\">\r\n   <path d=\"M 0 277.314375 \r\nL 398.50625 277.314375 \r\nL 398.50625 0 \r\nL 0 0 \r\nz\r\n\" style=\"fill:none;\"/>\r\n  </g>\r\n  <g id=\"axes_1\">\r\n   <g id=\"patch_2\">\r\n    <path d=\"M 56.50625 239.758125 \r\nL 391.30625 239.758125 \r\nL 391.30625 22.318125 \r\nL 56.50625 22.318125 \r\nz\r\n\" style=\"fill:#ffffff;\"/>\r\n   </g>\r\n   <g id=\"matplotlib.axis_1\">\r\n    <g id=\"xtick_1\">\r\n     <g id=\"line2d_1\">\r\n      <defs>\r\n       <path d=\"M 0 0 \r\nL 0 3.5 \r\n\" id=\"m84a6821fb5\" style=\"stroke:#000000;stroke-width:0.8;\"/>\r\n      </defs>\r\n      <g>\r\n       <use style=\"stroke:#000000;stroke-width:0.8;\" x=\"71.724432\" xlink:href=\"#m84a6821fb5\" y=\"239.758125\"/>\r\n      </g>\r\n     </g>\r\n     <g id=\"text_1\">\r\n      <!-- 0.0 -->\r\n      <g transform=\"translate(63.772869 254.356562)scale(0.1 -0.1)\">\r\n       <defs>\r\n        <path d=\"M 2034 4250 \r\nQ 1547 4250 1301 3770 \r\nQ 1056 3291 1056 2328 \r\nQ 1056 1369 1301 889 \r\nQ 1547 409 2034 409 \r\nQ 2525 409 2770 889 \r\nQ 3016 1369 3016 2328 \r\nQ 3016 3291 2770 3770 \r\nQ 2525 4250 2034 4250 \r\nz\r\nM 2034 4750 \r\nQ 2819 4750 3233 4129 \r\nQ 3647 3509 3647 2328 \r\nQ 3647 1150 3233 529 \r\nQ 2819 -91 2034 -91 \r\nQ 1250 -91 836 529 \r\nQ 422 1150 422 2328 \r\nQ 422 3509 836 4129 \r\nQ 1250 4750 2034 4750 \r\nz\r\n\" id=\"DejaVuSans-30\" transform=\"scale(0.015625)\"/>\r\n        <path d=\"M 684 794 \r\nL 1344 794 \r\nL 1344 0 \r\nL 684 0 \r\nL 684 794 \r\nz\r\n\" id=\"DejaVuSans-2e\" transform=\"scale(0.015625)\"/>\r\n       </defs>\r\n       <use xlink:href=\"#DejaVuSans-30\"/>\r\n       <use x=\"63.623047\" xlink:href=\"#DejaVuSans-2e\"/>\r\n       <use x=\"95.410156\" xlink:href=\"#DejaVuSans-30\"/>\r\n      </g>\r\n     </g>\r\n    </g>\r\n    <g id=\"xtick_2\">\r\n     <g id=\"line2d_2\">\r\n      <g>\r\n       <use style=\"stroke:#000000;stroke-width:0.8;\" x=\"111.772279\" xlink:href=\"#m84a6821fb5\" y=\"239.758125\"/>\r\n      </g>\r\n     </g>\r\n     <g id=\"text_2\">\r\n      <!-- 2.5 -->\r\n      <g transform=\"translate(103.820716 254.356562)scale(0.1 -0.1)\">\r\n       <defs>\r\n        <path d=\"M 1228 531 \r\nL 3431 531 \r\nL 3431 0 \r\nL 469 0 \r\nL 469 531 \r\nQ 828 903 1448 1529 \r\nQ 2069 2156 2228 2338 \r\nQ 2531 2678 2651 2914 \r\nQ 2772 3150 2772 3378 \r\nQ 2772 3750 2511 3984 \r\nQ 2250 4219 1831 4219 \r\nQ 1534 4219 1204 4116 \r\nQ 875 4013 500 3803 \r\nL 500 4441 \r\nQ 881 4594 1212 4672 \r\nQ 1544 4750 1819 4750 \r\nQ 2544 4750 2975 4387 \r\nQ 3406 4025 3406 3419 \r\nQ 3406 3131 3298 2873 \r\nQ 3191 2616 2906 2266 \r\nQ 2828 2175 2409 1742 \r\nQ 1991 1309 1228 531 \r\nz\r\n\" id=\"DejaVuSans-32\" transform=\"scale(0.015625)\"/>\r\n        <path d=\"M 691 4666 \r\nL 3169 4666 \r\nL 3169 4134 \r\nL 1269 4134 \r\nL 1269 2991 \r\nQ 1406 3038 1543 3061 \r\nQ 1681 3084 1819 3084 \r\nQ 2600 3084 3056 2656 \r\nQ 3513 2228 3513 1497 \r\nQ 3513 744 3044 326 \r\nQ 2575 -91 1722 -91 \r\nQ 1428 -91 1123 -41 \r\nQ 819 9 494 109 \r\nL 494 744 \r\nQ 775 591 1075 516 \r\nQ 1375 441 1709 441 \r\nQ 2250 441 2565 725 \r\nQ 2881 1009 2881 1497 \r\nQ 2881 1984 2565 2268 \r\nQ 2250 2553 1709 2553 \r\nQ 1456 2553 1204 2497 \r\nQ 953 2441 691 2322 \r\nL 691 4666 \r\nz\r\n\" id=\"DejaVuSans-35\" transform=\"scale(0.015625)\"/>\r\n       </defs>\r\n       <use xlink:href=\"#DejaVuSans-32\"/>\r\n       <use x=\"63.623047\" xlink:href=\"#DejaVuSans-2e\"/>\r\n       <use x=\"95.410156\" xlink:href=\"#DejaVuSans-35\"/>\r\n      </g>\r\n     </g>\r\n    </g>\r\n    <g id=\"xtick_3\">\r\n     <g id=\"line2d_3\">\r\n      <g>\r\n       <use style=\"stroke:#000000;stroke-width:0.8;\" x=\"151.820126\" xlink:href=\"#m84a6821fb5\" y=\"239.758125\"/>\r\n      </g>\r\n     </g>\r\n     <g id=\"text_3\">\r\n      <!-- 5.0 -->\r\n      <g transform=\"translate(143.868563 254.356562)scale(0.1 -0.1)\">\r\n       <use xlink:href=\"#DejaVuSans-35\"/>\r\n       <use x=\"63.623047\" xlink:href=\"#DejaVuSans-2e\"/>\r\n       <use x=\"95.410156\" xlink:href=\"#DejaVuSans-30\"/>\r\n      </g>\r\n     </g>\r\n    </g>\r\n    <g id=\"xtick_4\">\r\n     <g id=\"line2d_4\">\r\n      <g>\r\n       <use style=\"stroke:#000000;stroke-width:0.8;\" x=\"191.867972\" xlink:href=\"#m84a6821fb5\" y=\"239.758125\"/>\r\n      </g>\r\n     </g>\r\n     <g id=\"text_4\">\r\n      <!-- 7.5 -->\r\n      <g transform=\"translate(183.91641 254.356562)scale(0.1 -0.1)\">\r\n       <defs>\r\n        <path d=\"M 525 4666 \r\nL 3525 4666 \r\nL 3525 4397 \r\nL 1831 0 \r\nL 1172 0 \r\nL 2766 4134 \r\nL 525 4134 \r\nL 525 4666 \r\nz\r\n\" id=\"DejaVuSans-37\" transform=\"scale(0.015625)\"/>\r\n       </defs>\r\n       <use xlink:href=\"#DejaVuSans-37\"/>\r\n       <use x=\"63.623047\" xlink:href=\"#DejaVuSans-2e\"/>\r\n       <use x=\"95.410156\" xlink:href=\"#DejaVuSans-35\"/>\r\n      </g>\r\n     </g>\r\n    </g>\r\n    <g id=\"xtick_5\">\r\n     <g id=\"line2d_5\">\r\n      <g>\r\n       <use style=\"stroke:#000000;stroke-width:0.8;\" x=\"231.915819\" xlink:href=\"#m84a6821fb5\" y=\"239.758125\"/>\r\n      </g>\r\n     </g>\r\n     <g id=\"text_5\">\r\n      <!-- 10.0 -->\r\n      <g transform=\"translate(220.783007 254.356562)scale(0.1 -0.1)\">\r\n       <defs>\r\n        <path d=\"M 794 531 \r\nL 1825 531 \r\nL 1825 4091 \r\nL 703 3866 \r\nL 703 4441 \r\nL 1819 4666 \r\nL 2450 4666 \r\nL 2450 531 \r\nL 3481 531 \r\nL 3481 0 \r\nL 794 0 \r\nL 794 531 \r\nz\r\n\" id=\"DejaVuSans-31\" transform=\"scale(0.015625)\"/>\r\n       </defs>\r\n       <use xlink:href=\"#DejaVuSans-31\"/>\r\n       <use x=\"63.623047\" xlink:href=\"#DejaVuSans-30\"/>\r\n       <use x=\"127.246094\" xlink:href=\"#DejaVuSans-2e\"/>\r\n       <use x=\"159.033203\" xlink:href=\"#DejaVuSans-30\"/>\r\n      </g>\r\n     </g>\r\n    </g>\r\n    <g id=\"xtick_6\">\r\n     <g id=\"line2d_6\">\r\n      <g>\r\n       <use style=\"stroke:#000000;stroke-width:0.8;\" x=\"271.963666\" xlink:href=\"#m84a6821fb5\" y=\"239.758125\"/>\r\n      </g>\r\n     </g>\r\n     <g id=\"text_6\">\r\n      <!-- 12.5 -->\r\n      <g transform=\"translate(260.830854 254.356562)scale(0.1 -0.1)\">\r\n       <use xlink:href=\"#DejaVuSans-31\"/>\r\n       <use x=\"63.623047\" xlink:href=\"#DejaVuSans-32\"/>\r\n       <use x=\"127.246094\" xlink:href=\"#DejaVuSans-2e\"/>\r\n       <use x=\"159.033203\" xlink:href=\"#DejaVuSans-35\"/>\r\n      </g>\r\n     </g>\r\n    </g>\r\n    <g id=\"xtick_7\">\r\n     <g id=\"line2d_7\">\r\n      <g>\r\n       <use style=\"stroke:#000000;stroke-width:0.8;\" x=\"312.011513\" xlink:href=\"#m84a6821fb5\" y=\"239.758125\"/>\r\n      </g>\r\n     </g>\r\n     <g id=\"text_7\">\r\n      <!-- 15.0 -->\r\n      <g transform=\"translate(300.878701 254.356562)scale(0.1 -0.1)\">\r\n       <use xlink:href=\"#DejaVuSans-31\"/>\r\n       <use x=\"63.623047\" xlink:href=\"#DejaVuSans-35\"/>\r\n       <use x=\"127.246094\" xlink:href=\"#DejaVuSans-2e\"/>\r\n       <use x=\"159.033203\" xlink:href=\"#DejaVuSans-30\"/>\r\n      </g>\r\n     </g>\r\n    </g>\r\n    <g id=\"xtick_8\">\r\n     <g id=\"line2d_8\">\r\n      <g>\r\n       <use style=\"stroke:#000000;stroke-width:0.8;\" x=\"352.05936\" xlink:href=\"#m84a6821fb5\" y=\"239.758125\"/>\r\n      </g>\r\n     </g>\r\n     <g id=\"text_8\">\r\n      <!-- 17.5 -->\r\n      <g transform=\"translate(340.926548 254.356562)scale(0.1 -0.1)\">\r\n       <use xlink:href=\"#DejaVuSans-31\"/>\r\n       <use x=\"63.623047\" xlink:href=\"#DejaVuSans-37\"/>\r\n       <use x=\"127.246094\" xlink:href=\"#DejaVuSans-2e\"/>\r\n       <use x=\"159.033203\" xlink:href=\"#DejaVuSans-35\"/>\r\n      </g>\r\n     </g>\r\n    </g>\r\n    <g id=\"text_9\">\r\n     <!-- epoch -->\r\n     <g transform=\"translate(208.678125 268.034687)scale(0.1 -0.1)\">\r\n      <defs>\r\n       <path d=\"M 3597 1894 \r\nL 3597 1613 \r\nL 953 1613 \r\nQ 991 1019 1311 708 \r\nQ 1631 397 2203 397 \r\nQ 2534 397 2845 478 \r\nQ 3156 559 3463 722 \r\nL 3463 178 \r\nQ 3153 47 2828 -22 \r\nQ 2503 -91 2169 -91 \r\nQ 1331 -91 842 396 \r\nQ 353 884 353 1716 \r\nQ 353 2575 817 3079 \r\nQ 1281 3584 2069 3584 \r\nQ 2775 3584 3186 3129 \r\nQ 3597 2675 3597 1894 \r\nz\r\nM 3022 2063 \r\nQ 3016 2534 2758 2815 \r\nQ 2500 3097 2075 3097 \r\nQ 1594 3097 1305 2825 \r\nQ 1016 2553 972 2059 \r\nL 3022 2063 \r\nz\r\n\" id=\"DejaVuSans-65\" transform=\"scale(0.015625)\"/>\r\n       <path d=\"M 1159 525 \r\nL 1159 -1331 \r\nL 581 -1331 \r\nL 581 3500 \r\nL 1159 3500 \r\nL 1159 2969 \r\nQ 1341 3281 1617 3432 \r\nQ 1894 3584 2278 3584 \r\nQ 2916 3584 3314 3078 \r\nQ 3713 2572 3713 1747 \r\nQ 3713 922 3314 415 \r\nQ 2916 -91 2278 -91 \r\nQ 1894 -91 1617 61 \r\nQ 1341 213 1159 525 \r\nz\r\nM 3116 1747 \r\nQ 3116 2381 2855 2742 \r\nQ 2594 3103 2138 3103 \r\nQ 1681 3103 1420 2742 \r\nQ 1159 2381 1159 1747 \r\nQ 1159 1113 1420 752 \r\nQ 1681 391 2138 391 \r\nQ 2594 391 2855 752 \r\nQ 3116 1113 3116 1747 \r\nz\r\n\" id=\"DejaVuSans-70\" transform=\"scale(0.015625)\"/>\r\n       <path d=\"M 1959 3097 \r\nQ 1497 3097 1228 2736 \r\nQ 959 2375 959 1747 \r\nQ 959 1119 1226 758 \r\nQ 1494 397 1959 397 \r\nQ 2419 397 2687 759 \r\nQ 2956 1122 2956 1747 \r\nQ 2956 2369 2687 2733 \r\nQ 2419 3097 1959 3097 \r\nz\r\nM 1959 3584 \r\nQ 2709 3584 3137 3096 \r\nQ 3566 2609 3566 1747 \r\nQ 3566 888 3137 398 \r\nQ 2709 -91 1959 -91 \r\nQ 1206 -91 779 398 \r\nQ 353 888 353 1747 \r\nQ 353 2609 779 3096 \r\nQ 1206 3584 1959 3584 \r\nz\r\n\" id=\"DejaVuSans-6f\" transform=\"scale(0.015625)\"/>\r\n       <path d=\"M 3122 3366 \r\nL 3122 2828 \r\nQ 2878 2963 2633 3030 \r\nQ 2388 3097 2138 3097 \r\nQ 1578 3097 1268 2742 \r\nQ 959 2388 959 1747 \r\nQ 959 1106 1268 751 \r\nQ 1578 397 2138 397 \r\nQ 2388 397 2633 464 \r\nQ 2878 531 3122 666 \r\nL 3122 134 \r\nQ 2881 22 2623 -34 \r\nQ 2366 -91 2075 -91 \r\nQ 1284 -91 818 406 \r\nQ 353 903 353 1747 \r\nQ 353 2603 823 3093 \r\nQ 1294 3584 2113 3584 \r\nQ 2378 3584 2631 3529 \r\nQ 2884 3475 3122 3366 \r\nz\r\n\" id=\"DejaVuSans-63\" transform=\"scale(0.015625)\"/>\r\n       <path d=\"M 3513 2113 \r\nL 3513 0 \r\nL 2938 0 \r\nL 2938 2094 \r\nQ 2938 2591 2744 2837 \r\nQ 2550 3084 2163 3084 \r\nQ 1697 3084 1428 2787 \r\nQ 1159 2491 1159 1978 \r\nL 1159 0 \r\nL 581 0 \r\nL 581 4863 \r\nL 1159 4863 \r\nL 1159 2956 \r\nQ 1366 3272 1645 3428 \r\nQ 1925 3584 2291 3584 \r\nQ 2894 3584 3203 3211 \r\nQ 3513 2838 3513 2113 \r\nz\r\n\" id=\"DejaVuSans-68\" transform=\"scale(0.015625)\"/>\r\n      </defs>\r\n      <use xlink:href=\"#DejaVuSans-65\"/>\r\n      <use x=\"61.523438\" xlink:href=\"#DejaVuSans-70\"/>\r\n      <use x=\"125\" xlink:href=\"#DejaVuSans-6f\"/>\r\n      <use x=\"186.181641\" xlink:href=\"#DejaVuSans-63\"/>\r\n      <use x=\"241.162109\" xlink:href=\"#DejaVuSans-68\"/>\r\n     </g>\r\n    </g>\r\n   </g>\r\n   <g id=\"matplotlib.axis_2\">\r\n    <g id=\"ytick_1\">\r\n     <g id=\"line2d_9\">\r\n      <defs>\r\n       <path d=\"M 0 0 \r\nL -3.5 0 \r\n\" id=\"mb8b54523cf\" style=\"stroke:#000000;stroke-width:0.8;\"/>\r\n      </defs>\r\n      <g>\r\n       <use style=\"stroke:#000000;stroke-width:0.8;\" x=\"56.50625\" xlink:href=\"#mb8b54523cf\" y=\"206.549305\"/>\r\n      </g>\r\n     </g>\r\n     <g id=\"text_10\">\r\n      <!-- 0.654 -->\r\n      <g transform=\"translate(20.878125 210.348524)scale(0.1 -0.1)\">\r\n       <defs>\r\n        <path d=\"M 2113 2584 \r\nQ 1688 2584 1439 2293 \r\nQ 1191 2003 1191 1497 \r\nQ 1191 994 1439 701 \r\nQ 1688 409 2113 409 \r\nQ 2538 409 2786 701 \r\nQ 3034 994 3034 1497 \r\nQ 3034 2003 2786 2293 \r\nQ 2538 2584 2113 2584 \r\nz\r\nM 3366 4563 \r\nL 3366 3988 \r\nQ 3128 4100 2886 4159 \r\nQ 2644 4219 2406 4219 \r\nQ 1781 4219 1451 3797 \r\nQ 1122 3375 1075 2522 \r\nQ 1259 2794 1537 2939 \r\nQ 1816 3084 2150 3084 \r\nQ 2853 3084 3261 2657 \r\nQ 3669 2231 3669 1497 \r\nQ 3669 778 3244 343 \r\nQ 2819 -91 2113 -91 \r\nQ 1303 -91 875 529 \r\nQ 447 1150 447 2328 \r\nQ 447 3434 972 4092 \r\nQ 1497 4750 2381 4750 \r\nQ 2619 4750 2861 4703 \r\nQ 3103 4656 3366 4563 \r\nz\r\n\" id=\"DejaVuSans-36\" transform=\"scale(0.015625)\"/>\r\n        <path d=\"M 2419 4116 \r\nL 825 1625 \r\nL 2419 1625 \r\nL 2419 4116 \r\nz\r\nM 2253 4666 \r\nL 3047 4666 \r\nL 3047 1625 \r\nL 3713 1625 \r\nL 3713 1100 \r\nL 3047 1100 \r\nL 3047 0 \r\nL 2419 0 \r\nL 2419 1100 \r\nL 313 1100 \r\nL 313 1709 \r\nL 2253 4666 \r\nz\r\n\" id=\"DejaVuSans-34\" transform=\"scale(0.015625)\"/>\r\n       </defs>\r\n       <use xlink:href=\"#DejaVuSans-30\"/>\r\n       <use x=\"63.623047\" xlink:href=\"#DejaVuSans-2e\"/>\r\n       <use x=\"95.410156\" xlink:href=\"#DejaVuSans-36\"/>\r\n       <use x=\"159.033203\" xlink:href=\"#DejaVuSans-35\"/>\r\n       <use x=\"222.65625\" xlink:href=\"#DejaVuSans-34\"/>\r\n      </g>\r\n     </g>\r\n    </g>\r\n    <g id=\"ytick_2\">\r\n     <g id=\"line2d_10\">\r\n      <g>\r\n       <use style=\"stroke:#000000;stroke-width:0.8;\" x=\"56.50625\" xlink:href=\"#mb8b54523cf\" y=\"167.851997\"/>\r\n      </g>\r\n     </g>\r\n     <g id=\"text_11\">\r\n      <!-- 0.656 -->\r\n      <g transform=\"translate(20.878125 171.651215)scale(0.1 -0.1)\">\r\n       <use xlink:href=\"#DejaVuSans-30\"/>\r\n       <use x=\"63.623047\" xlink:href=\"#DejaVuSans-2e\"/>\r\n       <use x=\"95.410156\" xlink:href=\"#DejaVuSans-36\"/>\r\n       <use x=\"159.033203\" xlink:href=\"#DejaVuSans-35\"/>\r\n       <use x=\"222.65625\" xlink:href=\"#DejaVuSans-36\"/>\r\n      </g>\r\n     </g>\r\n    </g>\r\n    <g id=\"ytick_3\">\r\n     <g id=\"line2d_11\">\r\n      <g>\r\n       <use style=\"stroke:#000000;stroke-width:0.8;\" x=\"56.50625\" xlink:href=\"#mb8b54523cf\" y=\"129.154688\"/>\r\n      </g>\r\n     </g>\r\n     <g id=\"text_12\">\r\n      <!-- 0.658 -->\r\n      <g transform=\"translate(20.878125 132.953907)scale(0.1 -0.1)\">\r\n       <defs>\r\n        <path d=\"M 2034 2216 \r\nQ 1584 2216 1326 1975 \r\nQ 1069 1734 1069 1313 \r\nQ 1069 891 1326 650 \r\nQ 1584 409 2034 409 \r\nQ 2484 409 2743 651 \r\nQ 3003 894 3003 1313 \r\nQ 3003 1734 2745 1975 \r\nQ 2488 2216 2034 2216 \r\nz\r\nM 1403 2484 \r\nQ 997 2584 770 2862 \r\nQ 544 3141 544 3541 \r\nQ 544 4100 942 4425 \r\nQ 1341 4750 2034 4750 \r\nQ 2731 4750 3128 4425 \r\nQ 3525 4100 3525 3541 \r\nQ 3525 3141 3298 2862 \r\nQ 3072 2584 2669 2484 \r\nQ 3125 2378 3379 2068 \r\nQ 3634 1759 3634 1313 \r\nQ 3634 634 3220 271 \r\nQ 2806 -91 2034 -91 \r\nQ 1263 -91 848 271 \r\nQ 434 634 434 1313 \r\nQ 434 1759 690 2068 \r\nQ 947 2378 1403 2484 \r\nz\r\nM 1172 3481 \r\nQ 1172 3119 1398 2916 \r\nQ 1625 2713 2034 2713 \r\nQ 2441 2713 2670 2916 \r\nQ 2900 3119 2900 3481 \r\nQ 2900 3844 2670 4047 \r\nQ 2441 4250 2034 4250 \r\nQ 1625 4250 1398 4047 \r\nQ 1172 3844 1172 3481 \r\nz\r\n\" id=\"DejaVuSans-38\" transform=\"scale(0.015625)\"/>\r\n       </defs>\r\n       <use xlink:href=\"#DejaVuSans-30\"/>\r\n       <use x=\"63.623047\" xlink:href=\"#DejaVuSans-2e\"/>\r\n       <use x=\"95.410156\" xlink:href=\"#DejaVuSans-36\"/>\r\n       <use x=\"159.033203\" xlink:href=\"#DejaVuSans-35\"/>\r\n       <use x=\"222.65625\" xlink:href=\"#DejaVuSans-38\"/>\r\n      </g>\r\n     </g>\r\n    </g>\r\n    <g id=\"ytick_4\">\r\n     <g id=\"line2d_12\">\r\n      <g>\r\n       <use style=\"stroke:#000000;stroke-width:0.8;\" x=\"56.50625\" xlink:href=\"#mb8b54523cf\" y=\"90.457379\"/>\r\n      </g>\r\n     </g>\r\n     <g id=\"text_13\">\r\n      <!-- 0.660 -->\r\n      <g transform=\"translate(20.878125 94.256598)scale(0.1 -0.1)\">\r\n       <use xlink:href=\"#DejaVuSans-30\"/>\r\n       <use x=\"63.623047\" xlink:href=\"#DejaVuSans-2e\"/>\r\n       <use x=\"95.410156\" xlink:href=\"#DejaVuSans-36\"/>\r\n       <use x=\"159.033203\" xlink:href=\"#DejaVuSans-36\"/>\r\n       <use x=\"222.65625\" xlink:href=\"#DejaVuSans-30\"/>\r\n      </g>\r\n     </g>\r\n    </g>\r\n    <g id=\"ytick_5\">\r\n     <g id=\"line2d_13\">\r\n      <g>\r\n       <use style=\"stroke:#000000;stroke-width:0.8;\" x=\"56.50625\" xlink:href=\"#mb8b54523cf\" y=\"51.760071\"/>\r\n      </g>\r\n     </g>\r\n     <g id=\"text_14\">\r\n      <!-- 0.662 -->\r\n      <g transform=\"translate(20.878125 55.55929)scale(0.1 -0.1)\">\r\n       <use xlink:href=\"#DejaVuSans-30\"/>\r\n       <use x=\"63.623047\" xlink:href=\"#DejaVuSans-2e\"/>\r\n       <use x=\"95.410156\" xlink:href=\"#DejaVuSans-36\"/>\r\n       <use x=\"159.033203\" xlink:href=\"#DejaVuSans-36\"/>\r\n       <use x=\"222.65625\" xlink:href=\"#DejaVuSans-32\"/>\r\n      </g>\r\n     </g>\r\n    </g>\r\n    <g id=\"text_15\">\r\n     <!-- accuracy -->\r\n     <g transform=\"translate(14.798437 153.5975)rotate(-90)scale(0.1 -0.1)\">\r\n      <defs>\r\n       <path d=\"M 2194 1759 \r\nQ 1497 1759 1228 1600 \r\nQ 959 1441 959 1056 \r\nQ 959 750 1161 570 \r\nQ 1363 391 1709 391 \r\nQ 2188 391 2477 730 \r\nQ 2766 1069 2766 1631 \r\nL 2766 1759 \r\nL 2194 1759 \r\nz\r\nM 3341 1997 \r\nL 3341 0 \r\nL 2766 0 \r\nL 2766 531 \r\nQ 2569 213 2275 61 \r\nQ 1981 -91 1556 -91 \r\nQ 1019 -91 701 211 \r\nQ 384 513 384 1019 \r\nQ 384 1609 779 1909 \r\nQ 1175 2209 1959 2209 \r\nL 2766 2209 \r\nL 2766 2266 \r\nQ 2766 2663 2505 2880 \r\nQ 2244 3097 1772 3097 \r\nQ 1472 3097 1187 3025 \r\nQ 903 2953 641 2809 \r\nL 641 3341 \r\nQ 956 3463 1253 3523 \r\nQ 1550 3584 1831 3584 \r\nQ 2591 3584 2966 3190 \r\nQ 3341 2797 3341 1997 \r\nz\r\n\" id=\"DejaVuSans-61\" transform=\"scale(0.015625)\"/>\r\n       <path d=\"M 544 1381 \r\nL 544 3500 \r\nL 1119 3500 \r\nL 1119 1403 \r\nQ 1119 906 1312 657 \r\nQ 1506 409 1894 409 \r\nQ 2359 409 2629 706 \r\nQ 2900 1003 2900 1516 \r\nL 2900 3500 \r\nL 3475 3500 \r\nL 3475 0 \r\nL 2900 0 \r\nL 2900 538 \r\nQ 2691 219 2414 64 \r\nQ 2138 -91 1772 -91 \r\nQ 1169 -91 856 284 \r\nQ 544 659 544 1381 \r\nz\r\nM 1991 3584 \r\nL 1991 3584 \r\nz\r\n\" id=\"DejaVuSans-75\" transform=\"scale(0.015625)\"/>\r\n       <path d=\"M 2631 2963 \r\nQ 2534 3019 2420 3045 \r\nQ 2306 3072 2169 3072 \r\nQ 1681 3072 1420 2755 \r\nQ 1159 2438 1159 1844 \r\nL 1159 0 \r\nL 581 0 \r\nL 581 3500 \r\nL 1159 3500 \r\nL 1159 2956 \r\nQ 1341 3275 1631 3429 \r\nQ 1922 3584 2338 3584 \r\nQ 2397 3584 2469 3576 \r\nQ 2541 3569 2628 3553 \r\nL 2631 2963 \r\nz\r\n\" id=\"DejaVuSans-72\" transform=\"scale(0.015625)\"/>\r\n       <path d=\"M 2059 -325 \r\nQ 1816 -950 1584 -1140 \r\nQ 1353 -1331 966 -1331 \r\nL 506 -1331 \r\nL 506 -850 \r\nL 844 -850 \r\nQ 1081 -850 1212 -737 \r\nQ 1344 -625 1503 -206 \r\nL 1606 56 \r\nL 191 3500 \r\nL 800 3500 \r\nL 1894 763 \r\nL 2988 3500 \r\nL 3597 3500 \r\nL 2059 -325 \r\nz\r\n\" id=\"DejaVuSans-79\" transform=\"scale(0.015625)\"/>\r\n      </defs>\r\n      <use xlink:href=\"#DejaVuSans-61\"/>\r\n      <use x=\"61.279297\" xlink:href=\"#DejaVuSans-63\"/>\r\n      <use x=\"116.259766\" xlink:href=\"#DejaVuSans-63\"/>\r\n      <use x=\"171.240234\" xlink:href=\"#DejaVuSans-75\"/>\r\n      <use x=\"234.619141\" xlink:href=\"#DejaVuSans-72\"/>\r\n      <use x=\"275.732422\" xlink:href=\"#DejaVuSans-61\"/>\r\n      <use x=\"337.011719\" xlink:href=\"#DejaVuSans-63\"/>\r\n      <use x=\"391.992188\" xlink:href=\"#DejaVuSans-79\"/>\r\n     </g>\r\n    </g>\r\n   </g>\r\n   <g id=\"line2d_14\">\r\n    <path clip-path=\"url(#p5bc0d38f08)\" d=\"M 71.724432 183.363123 \r\nL 87.743571 183.363123 \r\nL 103.762709 221.153463 \r\nL 119.781848 145.572783 \r\nL 135.800987 145.572783 \r\nL 151.820126 78.713127 \r\nL 167.839264 192.084148 \r\nL 183.858403 145.572783 \r\nL 199.877542 229.874489 \r\nL 215.896681 183.363123 \r\nL 231.915819 229.874489 \r\nL 247.934958 183.363123 \r\nL 263.954097 154.293808 \r\nL 279.973236 183.363123 \r\nL 295.992374 145.572783 \r\nL 312.011513 154.293808 \r\nL 328.030652 32.201761 \r\nL 344.049791 145.572783 \r\nL 360.068929 107.782442 \r\nL 376.088068 99.061417 \r\n\" style=\"fill:none;stroke:#1f77b4;stroke-linecap:square;stroke-width:1.5;\"/>\r\n    <defs>\r\n     <path d=\"M -3 3 \r\nL 3 -3 \r\nM -3 -3 \r\nL 3 3 \r\n\" id=\"mf44fc1008d\" style=\"stroke:#1f77b4;\"/>\r\n    </defs>\r\n    <g clip-path=\"url(#p5bc0d38f08)\">\r\n     <use style=\"fill:#1f77b4;stroke:#1f77b4;\" x=\"71.724432\" xlink:href=\"#mf44fc1008d\" y=\"183.363123\"/>\r\n     <use style=\"fill:#1f77b4;stroke:#1f77b4;\" x=\"87.743571\" xlink:href=\"#mf44fc1008d\" y=\"183.363123\"/>\r\n     <use style=\"fill:#1f77b4;stroke:#1f77b4;\" x=\"103.762709\" xlink:href=\"#mf44fc1008d\" y=\"221.153463\"/>\r\n     <use style=\"fill:#1f77b4;stroke:#1f77b4;\" x=\"119.781848\" xlink:href=\"#mf44fc1008d\" y=\"145.572783\"/>\r\n     <use style=\"fill:#1f77b4;stroke:#1f77b4;\" x=\"135.800987\" xlink:href=\"#mf44fc1008d\" y=\"145.572783\"/>\r\n     <use style=\"fill:#1f77b4;stroke:#1f77b4;\" x=\"151.820126\" xlink:href=\"#mf44fc1008d\" y=\"78.713127\"/>\r\n     <use style=\"fill:#1f77b4;stroke:#1f77b4;\" x=\"167.839264\" xlink:href=\"#mf44fc1008d\" y=\"192.084148\"/>\r\n     <use style=\"fill:#1f77b4;stroke:#1f77b4;\" x=\"183.858403\" xlink:href=\"#mf44fc1008d\" y=\"145.572783\"/>\r\n     <use style=\"fill:#1f77b4;stroke:#1f77b4;\" x=\"199.877542\" xlink:href=\"#mf44fc1008d\" y=\"229.874489\"/>\r\n     <use style=\"fill:#1f77b4;stroke:#1f77b4;\" x=\"215.896681\" xlink:href=\"#mf44fc1008d\" y=\"183.363123\"/>\r\n     <use style=\"fill:#1f77b4;stroke:#1f77b4;\" x=\"231.915819\" xlink:href=\"#mf44fc1008d\" y=\"229.874489\"/>\r\n     <use style=\"fill:#1f77b4;stroke:#1f77b4;\" x=\"247.934958\" xlink:href=\"#mf44fc1008d\" y=\"183.363123\"/>\r\n     <use style=\"fill:#1f77b4;stroke:#1f77b4;\" x=\"263.954097\" xlink:href=\"#mf44fc1008d\" y=\"154.293808\"/>\r\n     <use style=\"fill:#1f77b4;stroke:#1f77b4;\" x=\"279.973236\" xlink:href=\"#mf44fc1008d\" y=\"183.363123\"/>\r\n     <use style=\"fill:#1f77b4;stroke:#1f77b4;\" x=\"295.992374\" xlink:href=\"#mf44fc1008d\" y=\"145.572783\"/>\r\n     <use style=\"fill:#1f77b4;stroke:#1f77b4;\" x=\"312.011513\" xlink:href=\"#mf44fc1008d\" y=\"154.293808\"/>\r\n     <use style=\"fill:#1f77b4;stroke:#1f77b4;\" x=\"328.030652\" xlink:href=\"#mf44fc1008d\" y=\"32.201761\"/>\r\n     <use style=\"fill:#1f77b4;stroke:#1f77b4;\" x=\"344.049791\" xlink:href=\"#mf44fc1008d\" y=\"145.572783\"/>\r\n     <use style=\"fill:#1f77b4;stroke:#1f77b4;\" x=\"360.068929\" xlink:href=\"#mf44fc1008d\" y=\"107.782442\"/>\r\n     <use style=\"fill:#1f77b4;stroke:#1f77b4;\" x=\"376.088068\" xlink:href=\"#mf44fc1008d\" y=\"99.061417\"/>\r\n    </g>\r\n   </g>\r\n   <g id=\"patch_3\">\r\n    <path d=\"M 56.50625 239.758125 \r\nL 56.50625 22.318125 \r\n\" style=\"fill:none;stroke:#000000;stroke-linecap:square;stroke-linejoin:miter;stroke-width:0.8;\"/>\r\n   </g>\r\n   <g id=\"patch_4\">\r\n    <path d=\"M 391.30625 239.758125 \r\nL 391.30625 22.318125 \r\n\" style=\"fill:none;stroke:#000000;stroke-linecap:square;stroke-linejoin:miter;stroke-width:0.8;\"/>\r\n   </g>\r\n   <g id=\"patch_5\">\r\n    <path d=\"M 56.50625 239.758125 \r\nL 391.30625 239.758125 \r\n\" style=\"fill:none;stroke:#000000;stroke-linecap:square;stroke-linejoin:miter;stroke-width:0.8;\"/>\r\n   </g>\r\n   <g id=\"patch_6\">\r\n    <path d=\"M 56.50625 22.318125 \r\nL 391.30625 22.318125 \r\n\" style=\"fill:none;stroke:#000000;stroke-linecap:square;stroke-linejoin:miter;stroke-width:0.8;\"/>\r\n   </g>\r\n   <g id=\"text_16\">\r\n    <!-- Accuracy vs. No. of epochs -->\r\n    <g transform=\"translate(143.156563 16.318125)scale(0.12 -0.12)\">\r\n     <defs>\r\n      <path d=\"M 2188 4044 \r\nL 1331 1722 \r\nL 3047 1722 \r\nL 2188 4044 \r\nz\r\nM 1831 4666 \r\nL 2547 4666 \r\nL 4325 0 \r\nL 3669 0 \r\nL 3244 1197 \r\nL 1141 1197 \r\nL 716 0 \r\nL 50 0 \r\nL 1831 4666 \r\nz\r\n\" id=\"DejaVuSans-41\" transform=\"scale(0.015625)\"/>\r\n      <path id=\"DejaVuSans-20\" transform=\"scale(0.015625)\"/>\r\n      <path d=\"M 191 3500 \r\nL 800 3500 \r\nL 1894 563 \r\nL 2988 3500 \r\nL 3597 3500 \r\nL 2284 0 \r\nL 1503 0 \r\nL 191 3500 \r\nz\r\n\" id=\"DejaVuSans-76\" transform=\"scale(0.015625)\"/>\r\n      <path d=\"M 2834 3397 \r\nL 2834 2853 \r\nQ 2591 2978 2328 3040 \r\nQ 2066 3103 1784 3103 \r\nQ 1356 3103 1142 2972 \r\nQ 928 2841 928 2578 \r\nQ 928 2378 1081 2264 \r\nQ 1234 2150 1697 2047 \r\nL 1894 2003 \r\nQ 2506 1872 2764 1633 \r\nQ 3022 1394 3022 966 \r\nQ 3022 478 2636 193 \r\nQ 2250 -91 1575 -91 \r\nQ 1294 -91 989 -36 \r\nQ 684 19 347 128 \r\nL 347 722 \r\nQ 666 556 975 473 \r\nQ 1284 391 1588 391 \r\nQ 1994 391 2212 530 \r\nQ 2431 669 2431 922 \r\nQ 2431 1156 2273 1281 \r\nQ 2116 1406 1581 1522 \r\nL 1381 1569 \r\nQ 847 1681 609 1914 \r\nQ 372 2147 372 2553 \r\nQ 372 3047 722 3315 \r\nQ 1072 3584 1716 3584 \r\nQ 2034 3584 2315 3537 \r\nQ 2597 3491 2834 3397 \r\nz\r\n\" id=\"DejaVuSans-73\" transform=\"scale(0.015625)\"/>\r\n      <path d=\"M 628 4666 \r\nL 1478 4666 \r\nL 3547 763 \r\nL 3547 4666 \r\nL 4159 4666 \r\nL 4159 0 \r\nL 3309 0 \r\nL 1241 3903 \r\nL 1241 0 \r\nL 628 0 \r\nL 628 4666 \r\nz\r\n\" id=\"DejaVuSans-4e\" transform=\"scale(0.015625)\"/>\r\n      <path d=\"M 2375 4863 \r\nL 2375 4384 \r\nL 1825 4384 \r\nQ 1516 4384 1395 4259 \r\nQ 1275 4134 1275 3809 \r\nL 1275 3500 \r\nL 2222 3500 \r\nL 2222 3053 \r\nL 1275 3053 \r\nL 1275 0 \r\nL 697 0 \r\nL 697 3053 \r\nL 147 3053 \r\nL 147 3500 \r\nL 697 3500 \r\nL 697 3744 \r\nQ 697 4328 969 4595 \r\nQ 1241 4863 1831 4863 \r\nL 2375 4863 \r\nz\r\n\" id=\"DejaVuSans-66\" transform=\"scale(0.015625)\"/>\r\n     </defs>\r\n     <use xlink:href=\"#DejaVuSans-41\"/>\r\n     <use x=\"66.658203\" xlink:href=\"#DejaVuSans-63\"/>\r\n     <use x=\"121.638672\" xlink:href=\"#DejaVuSans-63\"/>\r\n     <use x=\"176.619141\" xlink:href=\"#DejaVuSans-75\"/>\r\n     <use x=\"239.998047\" xlink:href=\"#DejaVuSans-72\"/>\r\n     <use x=\"281.111328\" xlink:href=\"#DejaVuSans-61\"/>\r\n     <use x=\"342.390625\" xlink:href=\"#DejaVuSans-63\"/>\r\n     <use x=\"397.371094\" xlink:href=\"#DejaVuSans-79\"/>\r\n     <use x=\"456.550781\" xlink:href=\"#DejaVuSans-20\"/>\r\n     <use x=\"488.337891\" xlink:href=\"#DejaVuSans-76\"/>\r\n     <use x=\"547.517578\" xlink:href=\"#DejaVuSans-73\"/>\r\n     <use x=\"599.617188\" xlink:href=\"#DejaVuSans-2e\"/>\r\n     <use x=\"631.404297\" xlink:href=\"#DejaVuSans-20\"/>\r\n     <use x=\"663.191406\" xlink:href=\"#DejaVuSans-4e\"/>\r\n     <use x=\"737.996094\" xlink:href=\"#DejaVuSans-6f\"/>\r\n     <use x=\"797.427734\" xlink:href=\"#DejaVuSans-2e\"/>\r\n     <use x=\"829.214844\" xlink:href=\"#DejaVuSans-20\"/>\r\n     <use x=\"861.001953\" xlink:href=\"#DejaVuSans-6f\"/>\r\n     <use x=\"922.183594\" xlink:href=\"#DejaVuSans-66\"/>\r\n     <use x=\"957.388672\" xlink:href=\"#DejaVuSans-20\"/>\r\n     <use x=\"989.175781\" xlink:href=\"#DejaVuSans-65\"/>\r\n     <use x=\"1050.699219\" xlink:href=\"#DejaVuSans-70\"/>\r\n     <use x=\"1114.175781\" xlink:href=\"#DejaVuSans-6f\"/>\r\n     <use x=\"1175.357422\" xlink:href=\"#DejaVuSans-63\"/>\r\n     <use x=\"1230.337891\" xlink:href=\"#DejaVuSans-68\"/>\r\n     <use x=\"1293.716797\" xlink:href=\"#DejaVuSans-73\"/>\r\n    </g>\r\n   </g>\r\n  </g>\r\n </g>\r\n <defs>\r\n  <clipPath id=\"p5bc0d38f08\">\r\n   <rect height=\"217.44\" width=\"334.8\" x=\"56.50625\" y=\"22.318125\"/>\r\n  </clipPath>\r\n </defs>\r\n</svg>\r\n",
      "image/png": "[encoded data removed]"
     },
     "metadata": {
      "needs_background": "light"
     }
    }
   ],
   "source": [
    "accuracies = [x['val_acc'] for x in history]\n",
    "plt.plot(accuracies, '-x')\n",
    "plt.xlabel('epoch')\n",
    "plt.ylabel('accuracy')\n",
    "plt.title('Accuracy vs. No. of epochs')"
   ]
  },
  {
   "cell_type": "code",
   "execution_count": null,
   "metadata": {},
   "outputs": [],
   "source": []
  },
  {
   "cell_type": "code",
   "execution_count": null,
   "metadata": {},
   "outputs": [],
   "source": []
  }
 ]
}