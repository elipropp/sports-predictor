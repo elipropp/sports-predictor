{
 "metadata": {
  "language_info": {
   "codemirror_mode": {
    "name": "ipython",
    "version": 3
   },
   "file_extension": ".py",
   "mimetype": "text/x-python",
   "name": "python",
   "nbconvert_exporter": "python",
   "pygments_lexer": "ipython3",
   "version": "3.8.5-final"
  },
  "orig_nbformat": 2,
  "kernelspec": {
   "name": "python3",
   "display_name": "Python 3.8.5 64-bit ('data_projects': conda)",
   "metadata": {
    "interpreter": {
     "hash": "27349182686c72f61673dd14bcb418a2273c4d132e5464fd2acd3867740b92e5"
    }
   }
  }
 },
 "nbformat": 4,
 "nbformat_minor": 2,
 "cells": [
  {
   "cell_type": "code",
   "execution_count": 1,
   "metadata": {},
   "outputs": [],
   "source": [
    "import pandas as pd\n",
    "import numpy as np\n",
    "import requests\n",
    "from bs4 import BeautifulSoup"
   ]
  },
  {
   "cell_type": "code",
   "execution_count": 2,
   "metadata": {},
   "outputs": [],
   "source": [
    "ppg_url = \"https://www.teamrankings.com/nba/stat/points-per-game?date=\"\n",
    "oppg_url = \"https://www.teamrankings.com/nba/stat/opponent-points-per-game?date=\"\n",
    "ppg, oppg = [], []\n",
    "# columns used for pd.df\n",
    "columns = [row.text for row in BeautifulSoup(requests.get(ppg_url + '2018-10-31').text, 'html.parser').find_all('tr')[0].find_all('th')][2]\n",
    "daterange = pd.date_range('2018-11-01', '2018-11-30') # to decide later"
   ]
  },
  {
   "cell_type": "code",
   "execution_count": null,
   "metadata": {},
   "outputs": [],
   "source": [
    "def scrape_team_data(url, daterange):\n",
    "    team_data = []\n",
    "    for date in daterange:\n",
    "        response = requests.get(url + date.strftime(\"%Y-%m-%d\"))\n",
    "        rows = BeautifulSoup(response.text, 'html.parser').find_all('tr')\n",
    "        teams = [team.text for team in BeautifulSoup(response.text, 'html.parser').find_all('td', class_='text-left nowrap')]\n",
    "        team_data.append([date, teams, [row.find_all('td')[2].text for row in rows[1:]]])\n",
    "    return team_data"
   ]
  },
  {
   "cell_type": "code",
   "execution_count": null,
   "metadata": {},
   "outputs": [],
   "source": [
    "ppg = scrape_team_data(ppg_url, daterange)\n"
   ]
  },
  {
   "cell_type": "code",
   "execution_count": 13,
   "metadata": {},
   "outputs": [
    {
     "output_type": "execute_result",
     "data": {
      "text/plain": [
       "30"
      ]
     },
     "metadata": {},
     "execution_count": 13
    }
   ],
   "source": [
    "len(ppg)"
   ]
  },
  {
   "cell_type": "code",
   "execution_count": 14,
   "metadata": {},
   "outputs": [],
   "source": [
    "oppg = scrape_team_data(oppg_url, daterange)"
   ]
  },
  {
   "cell_type": "code",
   "execution_count": 16,
   "metadata": {},
   "outputs": [
    {
     "output_type": "execute_result",
     "data": {
      "text/plain": [
       "[Timestamp('2018-11-30 00:00:00', freq='D'),\n",
       " ['Memphis',\n",
       "  'Indiana',\n",
       "  'Denver',\n",
       "  'Boston',\n",
       "  'Okla City',\n",
       "  'Utah',\n",
       "  'Dallas',\n",
       "  'Toronto',\n",
       "  'Orlando',\n",
       "  'Charlotte',\n",
       "  'Milwaukee',\n",
       "  'Minnesota',\n",
       "  'Houston',\n",
       "  'Cleveland',\n",
       "  'Miami',\n",
       "  'Portland',\n",
       "  'Detroit',\n",
       "  'San Antonio',\n",
       "  'Brooklyn',\n",
       "  'Golden State',\n",
       "  'LA Lakers',\n",
       "  'LA Clippers',\n",
       "  'Chicago',\n",
       "  'Philadelphia',\n",
       "  'New York',\n",
       "  'Phoenix',\n",
       "  'New Orleans',\n",
       "  'Sacramento',\n",
       "  'Atlanta',\n",
       "  'Washington'],\n",
       " ['102.0',\n",
       "  '102.3',\n",
       "  '102.3',\n",
       "  '104.3',\n",
       "  '104.3',\n",
       "  '108.1',\n",
       "  '108.5',\n",
       "  '109.0',\n",
       "  '109.2',\n",
       "  '110.0',\n",
       "  '110.1',\n",
       "  '110.2',\n",
       "  '110.2',\n",
       "  '110.5',\n",
       "  '110.5',\n",
       "  '110.7',\n",
       "  '110.7',\n",
       "  '110.9',\n",
       "  '111.0',\n",
       "  '111.5',\n",
       "  '112.1',\n",
       "  '112.2',\n",
       "  '112.9',\n",
       "  '113.1',\n",
       "  '113.7',\n",
       "  '114.1',\n",
       "  '117.0',\n",
       "  '117.5',\n",
       "  '117.8',\n",
       "  '118.2']]"
      ]
     },
     "metadata": {},
     "execution_count": 16
    }
   ],
   "source": [
    "oppg[29]"
   ]
  },
  {
   "cell_type": "code",
   "execution_count": null,
   "metadata": {},
   "outputs": [],
   "source": []
  }
 ]
}