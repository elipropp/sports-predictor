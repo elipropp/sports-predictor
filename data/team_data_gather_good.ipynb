{
 "metadata": {
  "language_info": {
   "codemirror_mode": {
    "name": "ipython",
    "version": 3
   },
   "file_extension": ".py",
   "mimetype": "text/x-python",
   "name": "python",
   "nbconvert_exporter": "python",
   "pygments_lexer": "ipython3",
   "version": "3.8.5-final"
  },
  "orig_nbformat": 2,
  "kernelspec": {
   "name": "python3",
   "display_name": "Python 3.8.5 64-bit ('data_projects': conda)",
   "metadata": {
    "interpreter": {
     "hash": "27349182686c72f61673dd14bcb418a2273c4d132e5464fd2acd3867740b92e5"
    }
   }
  }
 },
 "nbformat": 4,
 "nbformat_minor": 2,
 "cells": [
  {
   "cell_type": "code",
   "execution_count": 15,
   "metadata": {},
   "outputs": [],
   "source": [
    "import pandas as pd\n",
    "import numpy as np\n",
    "import requests\n",
    "from bs4 import BeautifulSoup"
   ]
  },
  {
   "cell_type": "code",
   "execution_count": 16,
   "metadata": {},
   "outputs": [],
   "source": [
    "ppg_url = \"https://www.teamrankings.com/nba/stat/points-per-game?date=\"\n",
    "oppg_url = \"https://www.teamrankings.com/nba/stat/opponent-points-per-game?date=\"\n",
    "ppg, oppg = [], []\n",
    "# columns used for pd.df\n",
    "columns = [row.text for row in BeautifulSoup(requests.get(ppg_url + '2018-10-31').text, 'html.parser').find_all('tr')[0].find_all('th')][2]\n",
    "daterange = pd.date_range('2018-11-01', '2018-11-30') # to decide later"
   ]
  },
  {
   "cell_type": "code",
   "execution_count": 57,
   "metadata": {},
   "outputs": [],
   "source": [
    "def scrape_team_data(url, daterange):\n",
    "    team_data = []\n",
    "    for date in daterange:\n",
    "        response = requests.get(url + date.strftime(\"%Y-%m-%d\"))\n",
    "        pts = [row.find_all('td')[2].text for row in BeautifulSoup(response.text, 'html.parser').find_all('tr')[1:]]\n",
    "        teams = [team.text for team in BeautifulSoup(response.text, 'html.parser').find_all('td', class_='text-left nowrap')]\n",
    "        team_data.append([[date for i in range(30)], list(zip(*[teams, pts]))])\n",
    "        # team_data.append([[date for i in range(30)], teams, [row.find_all('td')[2].text for row in rows[1:]]])\n",
    "    return team_data"
   ]
  },
  {
   "cell_type": "code",
   "execution_count": 58,
   "metadata": {},
   "outputs": [],
   "source": [
    "ppg = scrape_team_data(ppg_url, daterange)\n",
    "# oppg = scrape_team_data(oppg_url, daterange)"
   ]
  },
  {
   "cell_type": "code",
   "execution_count": 62,
   "metadata": {},
   "outputs": [
    {
     "output_type": "execute_result",
     "data": {
      "text/plain": [
       "[('Atlanta', '108.4'),\n",
       " ('Boston', '102.4'),\n",
       " ('Brooklyn', '108.2'),\n",
       " ('Charlotte', '115.5'),\n",
       " ('Chicago', '109.9'),\n",
       " ('Cleveland', '110.0'),\n",
       " ('Dallas', '111.4'),\n",
       " ('Denver', '112.9'),\n",
       " ('Detroit', '111.0'),\n",
       " ('Golden State', '125.0'),\n",
       " ('Houston', '105.8'),\n",
       " ('Indiana', '108.8'),\n",
       " ('LA Clippers', '115.6'),\n",
       " ('LA Lakers', '121.0'),\n",
       " ('Memphis', '103.7'),\n",
       " ('Miami', '111.7'),\n",
       " ('Milwaukee', '120.0'),\n",
       " ('Minnesota', '116.0'),\n",
       " ('New Orleans', '122.3'),\n",
       " ('New York', '106.0'),\n",
       " ('Okla City', '108.7'),\n",
       " ('Orlando', '100.6'),\n",
       " ('Philadelphia', '112.5'),\n",
       " ('Phoenix', '103.4'),\n",
       " ('Portland', '117.0'),\n",
       " ('Sacramento', '116.5'),\n",
       " ('San Antonio', '114.6'),\n",
       " ('Toronto', '117.4'),\n",
       " ('Utah', '114.3'),\n",
       " ('Washington', '111.9')]"
      ]
     },
     "metadata": {},
     "execution_count": 62
    }
   ],
   "source": [
    "# ppg[0].sort(key=lambda i: i)\n",
    "# ppg[0][1].sort()\n",
    "ppg[0][1].sort()\n",
    "ppg[0][1]"
   ]
  },
  {
   "cell_type": "code",
   "execution_count": null,
   "metadata": {},
   "outputs": [],
   "source": []
  }
 ]
}