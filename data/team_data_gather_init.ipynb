{
 "metadata": {
  "language_info": {
   "codemirror_mode": {
    "name": "ipython",
    "version": 3
   },
   "file_extension": ".py",
   "mimetype": "text/x-python",
   "name": "python",
   "nbconvert_exporter": "python",
   "pygments_lexer": "ipython3",
   "version": "3.8.5-final"
  },
  "orig_nbformat": 2,
  "kernelspec": {
   "name": "python3",
   "display_name": "Python 3.8.5 64-bit ('data_projects': conda)",
   "metadata": {
    "interpreter": {
     "hash": "27349182686c72f61673dd14bcb418a2273c4d132e5464fd2acd3867740b92e5"
    }
   }
  }
 },
 "nbformat": 4,
 "nbformat_minor": 2,
 "cells": [
  {
   "cell_type": "code",
   "execution_count": 1,
   "metadata": {},
   "outputs": [],
   "source": [
    "import pandas as pd\n",
    "import numpy as np\n",
    "import requests\n",
    "from bs4 import BeautifulSoup"
   ]
  },
  {
   "cell_type": "code",
   "execution_count": 26,
   "metadata": {},
   "outputs": [
    {
     "output_type": "execute_result",
     "data": {
      "text/plain": [
       "['Brooklyn',\n",
       " 'Milwaukee',\n",
       " 'Denver',\n",
       " 'Washington',\n",
       " 'Portland',\n",
       " 'LA Clippers',\n",
       " 'Chicago',\n",
       " 'Philadelphia',\n",
       " 'Indiana',\n",
       " 'Utah',\n",
       " 'Sacramento',\n",
       " 'Atlanta',\n",
       " 'Golden State',\n",
       " 'Toronto',\n",
       " 'LA Lakers',\n",
       " 'Boston',\n",
       " 'San Antonio',\n",
       " 'New Orleans',\n",
       " 'Houston',\n",
       " 'Memphis',\n",
       " 'Phoenix',\n",
       " 'Charlotte',\n",
       " 'Dallas',\n",
       " 'Detroit',\n",
       " 'Okla City',\n",
       " 'Miami',\n",
       " 'Minnesota',\n",
       " 'Orlando',\n",
       " 'Cleveland',\n",
       " 'New York']"
      ]
     },
     "metadata": {},
     "execution_count": 26
    }
   ],
   "source": [
    "url = \"https://www.teamrankings.com/nba/stat/points-per-game?date=2021-02-04\"\n",
    "\n",
    "\n",
    "response = requests.get(url)\n",
    "# print(response)\n",
    "\n",
    "\n",
    "html_soup = BeautifulSoup(response.text, 'html.parser')\n",
    "\n",
    "teams = html_soup.find_all('td', class_='text-left nowrap')\n",
    "rows = html_soup.find_all('tr')\n",
    "\n",
    "teams = [team.text for team in teams]\n",
    "teams\n",
    "\n",
    "# for i in range(30):\n",
    "#     print(rows[i].text)"
   ]
  },
  {
   "cell_type": "code",
   "execution_count": 30,
   "metadata": {},
   "outputs": [
    {
     "output_type": "execute_result",
     "data": {
      "text/plain": [
       "'122.3'"
      ]
     },
     "metadata": {},
     "execution_count": 30
    }
   ],
   "source": [
    "rows[1:][0].find_all('td')[2].text"
   ]
  },
  {
   "cell_type": "code",
   "execution_count": 14,
   "metadata": {},
   "outputs": [
    {
     "output_type": "execute_result",
     "data": {
      "text/plain": [
       "['2020']"
      ]
     },
     "metadata": {},
     "execution_count": 14
    }
   ],
   "source": [
    "columns = [row.text for row in rows[0].find_all('th')]\n",
    "columns[2:3]"
   ]
  },
  {
   "cell_type": "code",
   "execution_count": 15,
   "metadata": {},
   "outputs": [
    {
     "output_type": "execute_result",
     "data": {
      "text/plain": [
       "Team\n",
       "Brooklyn        122.3\n",
       "Milwaukee       121.0\n",
       "Denver          116.6\n",
       "Washington      116.3\n",
       "Portland        115.4\n",
       "LA Clippers     115.0\n",
       "Chicago         114.8\n",
       "Philadelphia    114.0\n",
       "Indiana         113.9\n",
       "Utah            113.8\n",
       "Sacramento      113.5\n",
       "Atlanta         112.7\n",
       "Golden State    112.1\n",
       "Toronto         111.8\n",
       "LA Lakers       111.8\n",
       "Boston          111.5\n",
       "San Antonio     111.2\n",
       "New Orleans     111.1\n",
       "Houston         111.0\n",
       "Memphis         110.2\n",
       "Phoenix         109.9\n",
       "Charlotte       109.6\n",
       "Dallas          109.3\n",
       "Detroit         108.2\n",
       "Okla City       107.0\n",
       "Miami           106.5\n",
       "Minnesota       106.4\n",
       "Orlando         104.8\n",
       "Cleveland       103.7\n",
       "New York        102.4\n",
       "Name: 2020, dtype: object"
      ]
     },
     "metadata": {},
     "execution_count": 15
    }
   ],
   "source": [
    "# print(data_frame)\n",
    "\n",
    "# print(data_frame[0][0])\n",
    "# for r in rows:\n",
    "#     print(len(r.find_all('td')))\n",
    "# print(rows[1:])\n",
    "# print(len(rows[1].find_all('td')))\n",
    "clean_rows = [[row.find_all('td')[i].text for i in range(2,3)] for row in rows[1:]]\n",
    "df = pd.DataFrame(clean_rows, index=teams, columns=columns[2:3])\n",
    "df_strip"
   ]
  },
  {
   "source": [
    "Notes:\n",
    "- store ppg, oppg in df per team, all in dictionary (or something else)\n",
    "- scrape data based on date, then transfer into team based df\n",
    "- use one or two seasons as data for pythagorean expectation, which will be same as test set for diff models we use\n",
    "- whe scraping, store date and df in tuple/array in array to keep track of date"
   ],
   "cell_type": "markdown",
   "metadata": {}
  },
  {
   "source": [
    "url = \"https://www.teamrankings.com/nba/stat/points-per-game?date=\"\n",
    "dfs = []\n",
    "columns = [row.text for row in BeautifulSoup(requests.get(url + '2018-10-31').text, 'html.parser').find_all('tr')[0].find_all('th')][2:3]\n",
    "daterange = pd.date_range('2018-11-01', '2018-11-30')"
   ],
   "cell_type": "code",
   "metadata": {},
   "execution_count": 2,
   "outputs": []
  },
  {
   "cell_type": "code",
   "execution_count": 6,
   "metadata": {},
   "outputs": [
    {
     "output_type": "execute_result",
     "data": {
      "text/plain": [
       "Timestamp('2018-10-31 00:00:00', freq='D')"
      ]
     },
     "metadata": {},
     "execution_count": 6
    }
   ],
   "source": [
    "daterange[0] - pd.Timedelta(days=1)"
   ]
  },
  {
   "cell_type": "code",
   "execution_count": 6,
   "metadata": {},
   "outputs": [],
   "source": [
    "for date in daterange:\n",
    "    response = requests.get(url + date.strftime(\"%Y-%m-%d\"))\n",
    "    rows = BeautifulSoup(response.text, 'html.parser').find_all('tr')\n",
    "    teams = [team.text for team in BeautifulSoup(response.text, 'html.parser').find_all('td', class_='text-left nowrap')]\n",
    "    # dfs.append([date, [[row.find_all('td')[i].text for i in range(2,3)] for row in rows[1:]]])\n",
    "    dfs.append([date, teams, [row.find_all('td')[2].text for row in rows[1:]]])"
   ]
  },
  {
   "cell_type": "code",
   "execution_count": 15,
   "metadata": {},
   "outputs": [
    {
     "output_type": "execute_result",
     "data": {
      "text/plain": [
       "'120.1'"
      ]
     },
     "metadata": {},
     "execution_count": 15
    }
   ],
   "source": [
    "dfs[20][2][0]"
   ]
  },
  {
   "cell_type": "code",
   "execution_count": null,
   "metadata": {},
   "outputs": [],
   "source": []
  }
 ]
}