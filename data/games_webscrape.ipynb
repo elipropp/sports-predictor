{
 "cells": [
  {
   "cell_type": "code",
   "execution_count": 1,
   "metadata": {},
   "outputs": [],
   "source": [
    "import pandas as pd\n",
    "import numpy as np\n",
    "import requests\n",
    "from bs4 import BeautifulSoup\n",
    "import datetime\n",
    "from datetime import datetime as DT\n",
    "from typing import List, Dict\n",
    "import torch\n",
    "import time"
   ]
  },
  {
   "cell_type": "code",
   "execution_count": 2,
   "metadata": {},
   "outputs": [
    {
     "output_type": "stream",
     "name": "stdout",
     "text": [
      "Date\nFri, Oct 2, 2020\n2020-10-02 00:00:00\nSun, Oct 4, 2020\n2020-10-04 00:00:00\nTue, Oct 6, 2020\n2020-10-06 00:00:00\nFri, Oct 9, 2020\n2020-10-09 00:00:00\nSun, Oct 11, 2020\n2020-10-11 00:00:00\n"
     ]
    }
   ],
   "source": [
    "response = requests.get(\"https://www.basketball-reference.com/leagues/NBA_2020_games-october-2020.html\")\n",
    "Soup = BeautifulSoup(response.text, 'html.parser')\n",
    "rows = Soup.find_all('tr')\n",
    "len(rows)\n",
    "for row in rows: \n",
    "    print(row.th.text)\n",
    "    if row.th.text != \"Date\":\n",
    "        date_of_game = DT.strptime(row.th.text, '%a, %b %d, %Y')\n",
    "        print(date_of_game)"
   ]
  },
  {
   "cell_type": "code",
   "execution_count": 18,
   "metadata": {},
   "outputs": [],
   "source": [
    "def get_proper_name(teamName: str) -> str:\n",
    "    issue_teams = [\"Los Angeles Clippers\", \"Los Angeles Lakers\", \"Oklahoma City Thunder\", \"Portland Trail Blazers\"]\n",
    "    if teamName not in issue_teams:\n",
    "        return teamName.rsplit(' ', 1)[0]\n",
    "    else:\n",
    "        if teamName == issue_teams[0]:\n",
    "            return 'LA Clippers'\n",
    "        elif teamName == issue_teams[1]:\n",
    "            return 'LA Lakers'\n",
    "        elif teamName == issue_teams[2]:\n",
    "            return 'Okla City'\n",
    "        elif teamName == issue_teams[3]:\n",
    "            return 'Portland'"
   ]
  },
  {
   "cell_type": "code",
   "execution_count": 19,
   "metadata": {},
   "outputs": [],
   "source": [
    "def get_months_in_season(year: int) -> List[str]:\n",
    "    october_to_june = [\"october\", \"november\", \"december\", \"january\", \"february\", \"march\", \"april\", \"may\", \"june\"]\n",
    "    november_to_june = [\"november\", \"december\", \"january\", \"february\", \"march\", \"april\", \"may\", \"june\"]\n",
    "    switcher = {\n",
    "        2020: [\"october-2019\", \"november\", \"december\", \"january\", \"february\", \"march\", \"july\", \"august\", \"september\", \"october-2020\"],\n",
    "        2019: october_to_june,\n",
    "        2018: october_to_june,\n",
    "        2017: october_to_june,\n",
    "        2016: october_to_june,\n",
    "        2015: october_to_june,\n",
    "        2014: october_to_june,\n",
    "        2013: october_to_june,\n",
    "        2012: [\"december\", \"january\", \"february\", \"march\", \"april\", \"may\", \"june\"],\n",
    "        2011: october_to_june,\n",
    "        2010: october_to_june,\n",
    "        2009: october_to_june,\n",
    "        2008: october_to_june,\n",
    "        2007: october_to_june,\n",
    "        2006: november_to_june,\n",
    "        2005: november_to_june,\n",
    "        2004: october_to_june,\n",
    "        2003: october_to_june,\n",
    "        2002: october_to_june,\n",
    "        2001: october_to_june,\n",
    "        2000: november_to_june,\n",
    "        1999: [\"february\", \"march\", \"april\", \"may\", \"june\"],\n",
    "        1998: october_to_june,\n",
    "        1997: november_to_june,\n",
    "        1996: november_to_june,\n",
    "        1995: november_to_june,\n",
    "        1994: november_to_june,\n",
    "        1993: november_to_june,\n",
    "        1992: november_to_june,\n",
    "        1991: november_to_june,\n",
    "        1990: november_to_june,\n",
    "    }\n",
    "    return switcher.get(year, \"out of range... range is 1990-2020\")"
   ]
  },
  {
   "cell_type": "code",
   "execution_count": 20,
   "metadata": {},
   "outputs": [],
   "source": [
    "class Game:\n",
    "    def __init__(self, timestamp, homeTeam, awayTeam, didHomeWin):\n",
    "        self.day = timestamp\n",
    "        self.homeTeam = homeTeam\n",
    "        self.awayTeam = awayTeam\n",
    "        self.didHomeWin = didHomeWin\n",
    "        \n",
    "    def __repr__(self):\n",
    "        return f\"Time: {self.day}, Home Team: {self.homeTeam}, Away Team {self.awayTeam}, Home Team Won: {self.didHomeWin}\""
   ]
  },
  {
   "cell_type": "code",
   "execution_count": 21,
   "metadata": {},
   "outputs": [],
   "source": [
    "# inclusize of startYear not inclusive on endYear\n",
    "def scrape_game_data(startYear: int, endYear: int) -> Dict:\n",
    "    # turn start date and end date into a list of years \n",
    "    start_date = datetime.date(startYear, 1, 2)\n",
    "    end_date = datetime.date(endYear, 1, 1)\n",
    "    delta = datetime.timedelta(weeks=52, days=1)\n",
    "    years = []\n",
    "    while start_date <= end_date:\n",
    "        years.append(start_date.year)\n",
    "        # increment year            \n",
    "        start_date += delta\n",
    "\n",
    "    # Initialise lists to store scraped information\n",
    "    dates = []\n",
    "    awayTeams = []\n",
    "    homeTeams = []\n",
    "    homeWins = []\n",
    "\n",
    "    for year in years:\n",
    "        urls = [f\"https://www.basketball-reference.com/leagues/NBA_{year}_games-{month}.html\" for month in get_months_in_season(year)]\n",
    "        # print(f\"for {int_year} the urls are: \\n {urls}\")\n",
    "        for url in urls[1:-3]:\n",
    "            print(url)\n",
    "            response = requests.get(url)\n",
    "            Soup = BeautifulSoup(response.text, 'html.parser')\n",
    "            rows = Soup.find_all('tr')\n",
    "            for row in rows:\n",
    "                if row.th.text not in [\"Date\", \"Playoffs\"]: # these are sometiems the coloumn text values\n",
    "                    #print(url)\n",
    "                    rowElems = row.find_all('td')\n",
    "                    # rowElems[0] is the time of the game\n",
    "                    # added 'm' in f string because this is the format of rowElems[0] 7:00p. and date time needs pm or am not p or a\n",
    "                    # gameDay = DT.strptime(f\"{row.th.text} {rowElems[0].text}m\", '%a, %b %w, %Y %I:%M%p')\n",
    "                    \n",
    "                    # Get text vals and append them to their respective list\n",
    "                    # date\n",
    "                    try:\n",
    "                        date_of_game = DT.strptime(row.th.text, '%a, %b %d, %Y')\n",
    "                        dates.append(date_of_game)\n",
    "                        # print(date_of_game)\n",
    "                    except ValueError as e:\n",
    "                        print(row.th.text)\n",
    "                        break\n",
    "                    if year <= 2000: # the format of the HTML is slightly differnt for years <= 2000\n",
    "                       # away team\n",
    "                        away = get_proper_name(rowElems[0].text)\n",
    "                        awayTeams.append(away)\n",
    "                        # home team\n",
    "                        home = get_proper_name(rowElems[2].text)\n",
    "                        homeTeams.append(home)\n",
    "                        # Did Home team win?\n",
    "                        awayPts = rowElems[1].text\n",
    "                        homePts = rowElems[3].text\n",
    "\n",
    "                        didHomeWin = int(homePts) > int(awayPts)\n",
    "                        homeWins.append(didHomeWin)\n",
    "                    else:\n",
    "                        # away team\n",
    "                        away = get_proper_name(rowElems[1].text)\n",
    "                        awayTeams.append(away)\n",
    "                        # home team\n",
    "                        home = get_proper_name(rowElems[3].text)\n",
    "                        homeTeams.append(home)\n",
    "                        # Did Home team win?\n",
    "                        awayPts = rowElems[2].text\n",
    "                        homePts = rowElems[4].text\n",
    "\n",
    "                        didHomeWin = int(homePts) > int(awayPts)\n",
    "                        homeWins.append(didHomeWin)\n",
    "                    \n",
    "                    #print(f\"Time: {date_of_game}, Home/pts: {home}/{homePts}, Away/pts: {away}/{awayPts}, HomeTeamWon: {didHomeWin}\")\n",
    "                    # newGame = Game(gameDay, home, away, didHomeWin)\n",
    "                     \n",
    "    ret = {\n",
    "        'Date': dates,\n",
    "        'Home': homeTeams,\n",
    "        'Away': awayTeams,\n",
    "        'DidHomeWin': homeWins,\n",
    "    }\n",
    "    return ret"
   ]
  },
  {
   "cell_type": "code",
   "execution_count": 22,
   "metadata": {
    "tags": []
   },
   "outputs": [
    {
     "output_type": "stream",
     "name": "stdout",
     "text": [
      "https://www.basketball-reference.com/leagues/NBA_2010_games-november.html\n",
      "https://www.basketball-reference.com/leagues/NBA_2010_games-december.html\n",
      "https://www.basketball-reference.com/leagues/NBA_2010_games-january.html\n",
      "https://www.basketball-reference.com/leagues/NBA_2010_games-february.html\n",
      "https://www.basketball-reference.com/leagues/NBA_2010_games-march.html\n",
      "https://www.basketball-reference.com/leagues/NBA_2011_games-november.html\n",
      "https://www.basketball-reference.com/leagues/NBA_2011_games-december.html\n",
      "https://www.basketball-reference.com/leagues/NBA_2011_games-january.html\n",
      "https://www.basketball-reference.com/leagues/NBA_2011_games-february.html\n",
      "https://www.basketball-reference.com/leagues/NBA_2011_games-march.html\n",
      "https://www.basketball-reference.com/leagues/NBA_2012_games-january.html\n",
      "https://www.basketball-reference.com/leagues/NBA_2012_games-february.html\n",
      "https://www.basketball-reference.com/leagues/NBA_2012_games-march.html\n",
      "https://www.basketball-reference.com/leagues/NBA_2013_games-november.html\n",
      "https://www.basketball-reference.com/leagues/NBA_2013_games-december.html\n",
      "https://www.basketball-reference.com/leagues/NBA_2013_games-january.html\n",
      "https://www.basketball-reference.com/leagues/NBA_2013_games-february.html\n",
      "https://www.basketball-reference.com/leagues/NBA_2013_games-march.html\n",
      "https://www.basketball-reference.com/leagues/NBA_2014_games-november.html\n",
      "https://www.basketball-reference.com/leagues/NBA_2014_games-december.html\n",
      "https://www.basketball-reference.com/leagues/NBA_2014_games-january.html\n",
      "https://www.basketball-reference.com/leagues/NBA_2014_games-february.html\n",
      "https://www.basketball-reference.com/leagues/NBA_2014_games-march.html\n",
      "https://www.basketball-reference.com/leagues/NBA_2015_games-november.html\n",
      "https://www.basketball-reference.com/leagues/NBA_2015_games-december.html\n",
      "https://www.basketball-reference.com/leagues/NBA_2015_games-january.html\n",
      "https://www.basketball-reference.com/leagues/NBA_2015_games-february.html\n",
      "https://www.basketball-reference.com/leagues/NBA_2015_games-march.html\n",
      "https://www.basketball-reference.com/leagues/NBA_2016_games-november.html\n",
      "https://www.basketball-reference.com/leagues/NBA_2016_games-december.html\n",
      "https://www.basketball-reference.com/leagues/NBA_2016_games-january.html\n",
      "https://www.basketball-reference.com/leagues/NBA_2016_games-february.html\n",
      "https://www.basketball-reference.com/leagues/NBA_2016_games-march.html\n",
      "https://www.basketball-reference.com/leagues/NBA_2016_games-november.html\n",
      "https://www.basketball-reference.com/leagues/NBA_2016_games-december.html\n",
      "https://www.basketball-reference.com/leagues/NBA_2016_games-january.html\n",
      "https://www.basketball-reference.com/leagues/NBA_2016_games-february.html\n",
      "https://www.basketball-reference.com/leagues/NBA_2016_games-march.html\n",
      "https://www.basketball-reference.com/leagues/NBA_2017_games-november.html\n",
      "https://www.basketball-reference.com/leagues/NBA_2017_games-december.html\n",
      "https://www.basketball-reference.com/leagues/NBA_2017_games-january.html\n",
      "https://www.basketball-reference.com/leagues/NBA_2017_games-february.html\n",
      "https://www.basketball-reference.com/leagues/NBA_2017_games-march.html\n",
      "https://www.basketball-reference.com/leagues/NBA_2018_games-november.html\n",
      "https://www.basketball-reference.com/leagues/NBA_2018_games-december.html\n",
      "https://www.basketball-reference.com/leagues/NBA_2018_games-january.html\n",
      "https://www.basketball-reference.com/leagues/NBA_2018_games-february.html\n",
      "https://www.basketball-reference.com/leagues/NBA_2018_games-march.html\n",
      "https://www.basketball-reference.com/leagues/NBA_2019_games-november.html\n",
      "https://www.basketball-reference.com/leagues/NBA_2019_games-december.html\n",
      "https://www.basketball-reference.com/leagues/NBA_2019_games-january.html\n",
      "https://www.basketball-reference.com/leagues/NBA_2019_games-february.html\n",
      "https://www.basketball-reference.com/leagues/NBA_2019_games-march.html\n",
      "this took 21.082924127578735\n"
     ]
    }
   ],
   "source": [
    "t1 = time.time()\n",
    "gamesDict = scrape_game_data(2010, 2020)\n",
    "t2 = time.time()\n",
    "print(f'this took {t2-t1}')"
   ]
  },
  {
   "cell_type": "code",
   "execution_count": 23,
   "metadata": {},
   "outputs": [
    {
     "output_type": "execute_result",
     "data": {
      "text/plain": [
       "374"
      ]
     },
     "metadata": {},
     "execution_count": 23
    }
   ],
   "source": [
    "DF = pd.DataFrame(gamesDict)\n",
    "DF.count()\n",
    "DF.last\n",
    "DF.query('Home == \"Portland\"').Home.count()\n"
   ]
  },
  {
   "cell_type": "code",
   "execution_count": 15,
   "metadata": {},
   "outputs": [
    {
     "output_type": "execute_result",
     "data": {
      "text/plain": [
       "Date          11484\n",
       "Home          11484\n",
       "Away          11484\n",
       "DidHomeWin    11484\n",
       "dtype: int64"
      ]
     },
     "metadata": {},
     "execution_count": 15
    }
   ],
   "source": [
    "DF.count()"
   ]
  },
  {
   "cell_type": "code",
   "execution_count": null,
   "metadata": {},
   "outputs": [],
   "source": []
  },
  {
   "cell_type": "code",
   "execution_count": null,
   "metadata": {},
   "outputs": [],
   "source": []
  },
  {
   "cell_type": "code",
   "execution_count": null,
   "metadata": {},
   "outputs": [],
   "source": []
  }
 ],
 "metadata": {
  "kernelspec": {
   "display_name": "Python 3",
   "language": "python",
   "name": "python3"
  },
  "language_info": {
   "codemirror_mode": {
    "name": "ipython",
    "version": 3
   },
   "file_extension": ".py",
   "mimetype": "text/x-python",
   "name": "python",
   "nbconvert_exporter": "python",
   "pygments_lexer": "ipython3",
   "version": "3.8.8-final"
  }
 },
 "nbformat": 4,
 "nbformat_minor": 2
}