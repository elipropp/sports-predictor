{
 "cells": [
  {
   "cell_type": "code",
   "execution_count": 74,
   "metadata": {},
   "outputs": [],
   "source": [
    "import pandas as pd\n",
    "import numpy as np\n",
    "import requests\n",
    "from bs4 import BeautifulSoup\n",
    "import datetime\n",
    "from datetime import datetime as DT\n",
    "from typing import List, Dict\n",
    "import torch"
   ]
  },
  {
   "source": [
    "import sys\n",
    "print(sys.path)"
   ],
   "cell_type": "code",
   "metadata": {},
   "execution_count": 75,
   "outputs": [
    {
     "output_type": "stream",
     "name": "stdout",
     "text": [
      "['/Users/nicholaskhorasani/Desktop/github_personal/sports-predictor/testing', '/Users/nicholaskhorasani/.vscode/extensions/ms-toolsai.jupyter-2021.3.619093157/pythonFiles', '/Users/nicholaskhorasani/.vscode/extensions/ms-toolsai.jupyter-2021.3.619093157/pythonFiles/lib/python', '/opt/anaconda3/envs/sports-predicter/lib/python38.zip', '/opt/anaconda3/envs/sports-predicter/lib/python3.8', '/opt/anaconda3/envs/sports-predicter/lib/python3.8/lib-dynload', '', '/opt/anaconda3/envs/sports-predicter/lib/python3.8/site-packages', '/opt/anaconda3/envs/sports-predicter/lib/python3.8/site-packages/IPython/extensions', '/Users/nicholaskhorasani/.ipython']\n"
     ]
    }
   ]
  },
  {
   "cell_type": "code",
   "execution_count": 76,
   "metadata": {},
   "outputs": [
    {
     "output_type": "stream",
     "name": "stdout",
     "text": [
      "Date\nFri, Oct 2, 2020\n2020-10-02 00:00:00\nSun, Oct 4, 2020\n2020-10-04 00:00:00\nTue, Oct 6, 2020\n2020-10-06 00:00:00\nFri, Oct 9, 2020\n2020-10-09 00:00:00\nSun, Oct 11, 2020\n2020-10-11 00:00:00\n"
     ]
    }
   ],
   "source": [
    "response = requests.get(\"https://www.basketball-reference.com/leagues/NBA_2020_games-october-2020.html\")\n",
    "Soup = BeautifulSoup(response.text, 'html.parser')\n",
    "rows = Soup.find_all('tr')\n",
    "len(rows)\n",
    "for row in rows: \n",
    "    print(row.th.text)\n",
    "    if row.th.text != \"Date\":\n",
    "        date_of_game = DT.strptime(row.th.text, '%a, %b %d, %Y')\n",
    "        print(date_of_game)"
   ]
  },
  {
   "cell_type": "code",
   "execution_count": 77,
   "metadata": {},
   "outputs": [],
   "source": [
    "def get_proper_name(teamName: str) -> str:\n",
    "    issue_teams = [\"Los Angeles Clippers\", \"Los Angeles Lakers\", \"Oklahoma City Thunder\"]\n",
    "    if teamName not in issue_teams:\n",
    "        return teamName.rsplit(' ', 1)[0]\n",
    "    else:\n",
    "        if teamName == issue_teams[0]:\n",
    "            return 'LA Clippers'\n",
    "        elif teamName == issue_teams[1]:\n",
    "            return 'LA Lakers'\n",
    "        elif teamName == issue_teams[2]:\n",
    "            return 'Okla City'"
   ]
  },
  {
   "cell_type": "code",
   "execution_count": 78,
   "metadata": {},
   "outputs": [],
   "source": [
    "def get_months_in_season(year: int) -> List[str]:\n",
    "    october_to_june = [\"october\", \"november\", \"december\", \"january\", \"february\", \"march\", \"april\", \"may\", \"june\"]\n",
    "    november_to_june = [\"november\", \"december\", \"january\", \"february\", \"march\", \"april\", \"may\", \"june\"]\n",
    "    switcher = {\n",
    "        2020: [\"october-2019\", \"november\", \"december\", \"january\", \"february\", \"march\", \"july\", \"august\", \"september\", \"october-2020\"],\n",
    "        2019: october_to_june,\n",
    "        2018: october_to_june,\n",
    "        2017: october_to_june,\n",
    "        2016: october_to_june,\n",
    "        2015: october_to_june,\n",
    "        2014: october_to_june,\n",
    "        2013: october_to_june,\n",
    "        2012: [\"december\", \"january\", \"february\", \"march\", \"april\", \"may\", \"june\"],\n",
    "        2011: october_to_june,\n",
    "        2010: october_to_june,\n",
    "        2009: october_to_june,\n",
    "        2008: october_to_june,\n",
    "        2007: october_to_june,\n",
    "        2006: november_to_june,\n",
    "        2005: november_to_june,\n",
    "        2004: october_to_june,\n",
    "        2003: october_to_june,\n",
    "        2002: october_to_june,\n",
    "        2001: october_to_june,\n",
    "        2000: november_to_june,\n",
    "        1999: [\"february\", \"march\", \"april\", \"may\", \"june\"],\n",
    "        1998: october_to_june,\n",
    "        1997: november_to_june,\n",
    "        1996: november_to_june,\n",
    "        1995: november_to_june,\n",
    "        1994: november_to_june,\n",
    "        1993: november_to_june,\n",
    "        1992: november_to_june,\n",
    "        1991: november_to_june,\n",
    "        1990: november_to_june,\n",
    "    }\n",
    "    return switcher.get(year, \"out of range... range is 1990-2020\")"
   ]
  },
  {
   "cell_type": "code",
   "execution_count": 79,
   "metadata": {},
   "outputs": [],
   "source": [
    "class Game:\n",
    "    def __init__(self, timestamp, homeTeam, awayTeam, didHomeWin):\n",
    "        self.day = timestamp\n",
    "        self.homeTeam = homeTeam\n",
    "        self.awayTeam = awayTeam\n",
    "        self.didHomeWin = didHomeWin\n",
    "        \n",
    "    def __repr__(self):\n",
    "        return f\"Time: {self.day}, Home Team: {self.homeTeam}, Away Team {self.awayTeam}, Home Team Won: {self.didHomeWin}\""
   ]
  },
  {
   "cell_type": "code",
   "execution_count": 80,
   "metadata": {},
   "outputs": [],
   "source": [
    "# inclusize of startYear not inclusive on endYear\n",
    "def scrape_game_data(startYear: int, endYear: int) -> Dict:\n",
    "    # turn start date and end date into a list of years \n",
    "    start_date = datetime.date(startYear, 1, 2)\n",
    "    end_date = datetime.date(endYear, 1, 1)\n",
    "    delta = datetime.timedelta(weeks=52, days=1)\n",
    "    years = []\n",
    "    while start_date <= end_date:\n",
    "        years.append(start_date.year)\n",
    "        # increment year            \n",
    "        start_date += delta\n",
    "\n",
    "    # Initialise lists to store scraped information\n",
    "    dates = []\n",
    "    awayTeams = []\n",
    "    homeTeams = []\n",
    "    homeWins = []\n",
    "\n",
    "    for year in years:\n",
    "        urls = [f\"https://www.basketball-reference.com/leagues/NBA_{year}_games-{month}.html\" for month in get_months_in_season(year)]\n",
    "        # print(f\"for {int_year} the urls are: \\n {urls}\")\n",
    "        for url in urls:\n",
    "            response = requests.get(url)\n",
    "            Soup = BeautifulSoup(response.text, 'html.parser')\n",
    "            rows = Soup.find_all('tr')\n",
    "            for row in rows:\n",
    "                if row.th.text not in [\"Date\", \"Playoffs\"]: # these are sometiems the coloumn text values\n",
    "                    #print(url)\n",
    "                    rowElems = row.find_all('td')\n",
    "                    # rowElems[0] is the time of the game\n",
    "                    # added 'm' in f string because this is the format of rowElems[0] 7:00p. and date time needs pm or am not p or a\n",
    "                    # gameDay = DT.strptime(f\"{row.th.text} {rowElems[0].text}m\", '%a, %b %w, %Y %I:%M%p')\n",
    "                    \n",
    "                    # Get text vals and append them to their respective list\n",
    "                    # date\n",
    "                    try:\n",
    "                        date_of_game = DT.strptime(row.th.text, '%a, %b %d, %Y')\n",
    "                        dates.append(date_of_game)\n",
    "                        # print(date_of_game)\n",
    "                    except ValueError as e:\n",
    "                        print(row.th.text)\n",
    "                        break\n",
    "                    if year <= 2000: # the format of the HTML is slightly differnt for years <= 2000\n",
    "                       # away team\n",
    "                        away = get_proper_name(rowElems[0].text)\n",
    "                        awayTeams.append(away)\n",
    "                        # home team\n",
    "                        home = get_proper_name(rowElems[2].text)\n",
    "                        homeTeams.append(home)\n",
    "                        # Did Home team win?\n",
    "                        awayPts = rowElems[1].text\n",
    "                        homePts = rowElems[3].text\n",
    "\n",
    "                        didHomeWin = int(homePts) > int(awayPts)\n",
    "                        homeWins.append(didHomeWin)\n",
    "                    else:\n",
    "                        # away team\n",
    "                        away = get_proper_name(rowElems[1].text)\n",
    "                        awayTeams.append(away)\n",
    "                        # home team\n",
    "                        home = get_proper_name(rowElems[3].text)\n",
    "                        homeTeams.append(home)\n",
    "                        # Did Home team win?\n",
    "                        awayPts = rowElems[2].text\n",
    "                        homePts = rowElems[4].text\n",
    "\n",
    "                        didHomeWin = int(homePts) > int(awayPts)\n",
    "                        homeWins.append(didHomeWin)\n",
    "                    \n",
    "                    #print(f\"Time: {date_of_game}, Home/pts: {home}/{homePts}, Away/pts: {away}/{awayPts}, HomeTeamWon: {didHomeWin}\")\n",
    "                    # newGame = Game(gameDay, home, away, didHomeWin)\n",
    "                     \n",
    "    ret = {\n",
    "        'Date': dates,\n",
    "        'Home': homeTeams,\n",
    "        'Away': awayTeams,\n",
    "        'DidHomeWin': homeWins,\n",
    "    }\n",
    "    return ret"
   ]
  },
  {
   "cell_type": "code",
   "execution_count": 81,
   "metadata": {
    "tags": []
   },
   "outputs": [],
   "source": [
    "gamesDict = scrape_game_data(2015, 2020)"
   ]
  },
  {
   "cell_type": "code",
   "execution_count": 82,
   "metadata": {},
   "outputs": [
    {
     "output_type": "execute_result",
     "data": {
      "text/plain": [
       "         Date            Home          Away  DidHomeWin\n",
       "0  2014-10-28     New Orleans       Orlando        True\n",
       "1  2014-10-28     San Antonio        Dallas        True\n",
       "2  2014-10-28       LA Lakers       Houston       False\n",
       "3  2014-10-29       Charlotte     Milwaukee        True\n",
       "4  2014-10-29         Indiana  Philadelphia        True\n",
       "..        ...             ...           ...         ...\n",
       "95 2014-11-09  Portland Trail        Denver        True\n",
       "96 2014-11-09       LA Lakers     Charlotte        True\n",
       "97 2014-11-10       Cleveland   New Orleans        True\n",
       "98 2014-11-10         Indiana          Utah        True\n",
       "99 2014-11-10        New York       Atlanta       False\n",
       "\n",
       "[100 rows x 4 columns]"
      ],
      "text/html": "<div>\n<style scoped>\n    .dataframe tbody tr th:only-of-type {\n        vertical-align: middle;\n    }\n\n    .dataframe tbody tr th {\n        vertical-align: top;\n    }\n\n    .dataframe thead th {\n        text-align: right;\n    }\n</style>\n<table border=\"1\" class=\"dataframe\">\n  <thead>\n    <tr style=\"text-align: right;\">\n      <th></th>\n      <th>Date</th>\n      <th>Home</th>\n      <th>Away</th>\n      <th>DidHomeWin</th>\n    </tr>\n  </thead>\n  <tbody>\n    <tr>\n      <th>0</th>\n      <td>2014-10-28</td>\n      <td>New Orleans</td>\n      <td>Orlando</td>\n      <td>True</td>\n    </tr>\n    <tr>\n      <th>1</th>\n      <td>2014-10-28</td>\n      <td>San Antonio</td>\n      <td>Dallas</td>\n      <td>True</td>\n    </tr>\n    <tr>\n      <th>2</th>\n      <td>2014-10-28</td>\n      <td>LA Lakers</td>\n      <td>Houston</td>\n      <td>False</td>\n    </tr>\n    <tr>\n      <th>3</th>\n      <td>2014-10-29</td>\n      <td>Charlotte</td>\n      <td>Milwaukee</td>\n      <td>True</td>\n    </tr>\n    <tr>\n      <th>4</th>\n      <td>2014-10-29</td>\n      <td>Indiana</td>\n      <td>Philadelphia</td>\n      <td>True</td>\n    </tr>\n    <tr>\n      <th>...</th>\n      <td>...</td>\n      <td>...</td>\n      <td>...</td>\n      <td>...</td>\n    </tr>\n    <tr>\n      <th>95</th>\n      <td>2014-11-09</td>\n      <td>Portland Trail</td>\n      <td>Denver</td>\n      <td>True</td>\n    </tr>\n    <tr>\n      <th>96</th>\n      <td>2014-11-09</td>\n      <td>LA Lakers</td>\n      <td>Charlotte</td>\n      <td>True</td>\n    </tr>\n    <tr>\n      <th>97</th>\n      <td>2014-11-10</td>\n      <td>Cleveland</td>\n      <td>New Orleans</td>\n      <td>True</td>\n    </tr>\n    <tr>\n      <th>98</th>\n      <td>2014-11-10</td>\n      <td>Indiana</td>\n      <td>Utah</td>\n      <td>True</td>\n    </tr>\n    <tr>\n      <th>99</th>\n      <td>2014-11-10</td>\n      <td>New York</td>\n      <td>Atlanta</td>\n      <td>False</td>\n    </tr>\n  </tbody>\n</table>\n<p>100 rows × 4 columns</p>\n</div>"
     },
     "metadata": {},
     "execution_count": 82
    }
   ],
   "source": [
    "DF = pd.DataFrame(gamesDict)\n",
    "DF.head(100)\n"
   ]
  },
  {
   "cell_type": "code",
   "execution_count": 83,
   "metadata": {},
   "outputs": [
    {
     "output_type": "execute_result",
     "data": {
      "text/plain": [
       "Date          7703\n",
       "Home          7703\n",
       "Away          7703\n",
       "DidHomeWin    7703\n",
       "dtype: int64"
      ]
     },
     "metadata": {},
     "execution_count": 83
    }
   ],
   "source": [
    "DF.count()"
   ]
  },
  {
   "cell_type": "code",
   "execution_count": null,
   "metadata": {},
   "outputs": [],
   "source": []
  },
  {
   "cell_type": "code",
   "execution_count": null,
   "metadata": {},
   "outputs": [],
   "source": []
  },
  {
   "cell_type": "code",
   "execution_count": null,
   "metadata": {},
   "outputs": [],
   "source": []
  }
 ],
 "metadata": {
  "kernelspec": {
   "name": "python3",
   "display_name": "Python 3.8.8 64-bit ('sports-predicter': conda)",
   "metadata": {
    "interpreter": {
     "hash": "b2614e2587d2c4f4ef3489a3577c62410d94e00533eb9712843fcc25ba64e7a2"
    }
   }
  },
  "language_info": {
   "codemirror_mode": {
    "name": "ipython",
    "version": 3
   },
   "file_extension": ".py",
   "mimetype": "text/x-python",
   "name": "python",
   "nbconvert_exporter": "python",
   "pygments_lexer": "ipython3",
   "version": "3.8.8-final"
  }
 },
 "nbformat": 4,
 "nbformat_minor": 2
}